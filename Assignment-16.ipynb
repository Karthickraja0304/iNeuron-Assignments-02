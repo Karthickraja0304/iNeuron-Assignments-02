{
 "cells": [
  {
   "cell_type": "code",
   "execution_count": null,
   "id": "b194cd60",
   "metadata": {},
   "outputs": [],
   "source": [
    "Q1. What is the benefit of regular expressions?"
   ]
  },
  {
   "cell_type": "code",
   "execution_count": null,
   "id": "79c8f9aa",
   "metadata": {},
   "outputs": [],
   "source": [
    "Ans:\n",
    "Regular Expressions, also known as regex or regexp, are used to match strings of text such as particular characters, \n",
    "words, or patterns of characters. It means that we can match and extract any string pattern from the text with the \n",
    "help of regular expressions. it helps the programmers to Write less and cleaner code. it also avoids multiple use of\n",
    "if/else statements."
   ]
  },
  {
   "cell_type": "code",
   "execution_count": null,
   "id": "989f97e1",
   "metadata": {},
   "outputs": [],
   "source": []
  },
  {
   "cell_type": "code",
   "execution_count": null,
   "id": "381465c4",
   "metadata": {},
   "outputs": [],
   "source": [
    "Q2. Describe the difference between the effects of \"(ab)c+\" and \"a(bc)+.\" Which of these, if any, is the \n",
    "    unqualified pattern \"abc+\"?"
   ]
  },
  {
   "cell_type": "code",
   "execution_count": null,
   "id": "b8edc873",
   "metadata": {},
   "outputs": [],
   "source": [
    "Ans:Both (ab)c+ and a(bc)+ are valid patterns. the difference between both these patterns is in (ab)c+ ab is group \n",
    "    whereas in a(bc)+ bc is a group."
   ]
  },
  {
   "cell_type": "code",
   "execution_count": null,
   "id": "28e677e7",
   "metadata": {},
   "outputs": [],
   "source": []
  },
  {
   "cell_type": "code",
   "execution_count": null,
   "id": "73462449",
   "metadata": {},
   "outputs": [],
   "source": [
    "Q3. How much do you need to use the following sentence while using regular expressions?\n",
    "import re"
   ]
  },
  {
   "cell_type": "code",
   "execution_count": null,
   "id": "b28ed757",
   "metadata": {},
   "outputs": [],
   "source": [
    "Ans: import re"
   ]
  },
  {
   "cell_type": "code",
   "execution_count": null,
   "id": "80878fa3",
   "metadata": {},
   "outputs": [],
   "source": []
  },
  {
   "cell_type": "code",
   "execution_count": null,
   "id": "fc982490",
   "metadata": {},
   "outputs": [],
   "source": [
    "Q4. Which characters have special significance in square brackets when expressing a range, and under what circumstances?"
   ]
  },
  {
   "cell_type": "code",
   "execution_count": null,
   "id": "0484e00c",
   "metadata": {},
   "outputs": [],
   "source": [
    "Ans: The Characters .,*,?,^,or,(), have a special signiface when used with square brackets. They need not be \n",
    "    be explicitly escaped by \\ as in case of pattern texts in a raw string."
   ]
  },
  {
   "cell_type": "code",
   "execution_count": null,
   "id": "c7d90735",
   "metadata": {},
   "outputs": [],
   "source": []
  },
  {
   "cell_type": "code",
   "execution_count": null,
   "id": "ab1cc9d6",
   "metadata": {},
   "outputs": [],
   "source": [
    "Q5. How does compiling a regular-expression object benefit you?"
   ]
  },
  {
   "cell_type": "code",
   "execution_count": null,
   "id": "b217c0cb",
   "metadata": {},
   "outputs": [],
   "source": [
    "Ans:  We can Combine a regular expression pattern into pattern Objects.Which can be used for pattern matching. it \n",
    "    also helps to search a pattern again without rewritting it."
   ]
  },
  {
   "cell_type": "code",
   "execution_count": null,
   "id": "03906e6c",
   "metadata": {},
   "outputs": [],
   "source": []
  },
  {
   "cell_type": "code",
   "execution_count": null,
   "id": "11b297b3",
   "metadata": {},
   "outputs": [],
   "source": [
    "Q6. What are some examples of how to use the match object returned by re.match and re.search?"
   ]
  },
  {
   "cell_type": "code",
   "execution_count": null,
   "id": "0d31c421",
   "metadata": {},
   "outputs": [],
   "source": [
    "Ans:\n",
    "The re.search() and re.match() both are functions of re module in python. These functions are very efficient and fast \n",
    "for searching in strings. The function searches for some substring in a string and returns a match object if found, else \n",
    "it returns none.\n",
    "\n",
    "There is a difference between the use of both functions. Both return the first match of a substring found in the string,\n",
    "but re.match() searches only from the beginning of the string and return match object if found. But if a match of substring \n",
    "is found somewhere in the middle of the string, it returns none.\n",
    "\n",
    "While re.search() searches for the whole string even if the string contains multi-lines and tries to find a match of the \n",
    "substring in all the lines of string"
   ]
  },
  {
   "cell_type": "code",
   "execution_count": null,
   "id": "19e999a1",
   "metadata": {},
   "outputs": [],
   "source": []
  },
  {
   "cell_type": "code",
   "execution_count": null,
   "id": "612d11fe",
   "metadata": {},
   "outputs": [],
   "source": [
    "Q7. What is the difference between using a vertical bar (|) as an alteration and using square brackets as a character set?"
   ]
  },
  {
   "cell_type": "code",
   "execution_count": null,
   "id": "01ce1437",
   "metadata": {},
   "outputs": [],
   "source": [
    "Ans:\n",
    "When | us used then patterns searches for or option. i.e <pattern_1>|<pattern_2> means it searches as <pattern_1>or<<pattern_2>\n",
    "in the searched string. the first occurance of matched string will be returned as the Match Object. Using Character set in \n",
    "square Brackets searches for all the character set in the square bracket and if match is found, it returns it."
   ]
  },
  {
   "cell_type": "code",
   "execution_count": null,
   "id": "93ddb667",
   "metadata": {},
   "outputs": [],
   "source": []
  },
  {
   "cell_type": "code",
   "execution_count": null,
   "id": "0749af25",
   "metadata": {},
   "outputs": [],
   "source": [
    "Q8. In regular-expression search patterns, why is it necessary to use the raw-string indicator (r)? In   replacement strings?"
   ]
  },
  {
   "cell_type": "code",
   "execution_count": null,
   "id": "7ecb442a",
   "metadata": {},
   "outputs": [],
   "source": [
    "Ans:  Raw Strings are used in the regular-expression search patterns, so that blackslashes donot have to be escaped."
   ]
  },
  {
   "cell_type": "code",
   "execution_count": null,
   "id": "2210a6c5",
   "metadata": {},
   "outputs": [],
   "source": []
  }
 ],
 "metadata": {
  "kernelspec": {
   "display_name": "Python 3 (ipykernel)",
   "language": "python",
   "name": "python3"
  },
  "language_info": {
   "codemirror_mode": {
    "name": "ipython",
    "version": 3
   },
   "file_extension": ".py",
   "mimetype": "text/x-python",
   "name": "python",
   "nbconvert_exporter": "python",
   "pygments_lexer": "ipython3",
   "version": "3.9.12"
  }
 },
 "nbformat": 4,
 "nbformat_minor": 5
}
