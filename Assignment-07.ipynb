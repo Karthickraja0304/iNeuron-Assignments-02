{
 "cells": [
  {
   "cell_type": "code",
   "execution_count": null,
   "id": "f6da58f7",
   "metadata": {},
   "outputs": [],
   "source": [
    "Q1. What is the purpose of the try statement?"
   ]
  },
  {
   "cell_type": "code",
   "execution_count": null,
   "id": "83761783",
   "metadata": {},
   "outputs": [],
   "source": [
    "Ans: try statement is used for exception handling in python. it consists of a block of risky statements \n",
    "    which might cause an exception during runtime. if code within try block raises exception, then the exception\n",
    "    will be reverted to the corresponding except block if multiple except blocks are present, else it willbe reverted\n",
    "    to the default except block. In short try and except in union avoid programs from crashing during runtime due to \n",
    "    exceptions."
   ]
  },
  {
   "cell_type": "code",
   "execution_count": null,
   "id": "6789cc18",
   "metadata": {},
   "outputs": [],
   "source": []
  },
  {
   "cell_type": "code",
   "execution_count": null,
   "id": "e3f137b8",
   "metadata": {},
   "outputs": [],
   "source": [
    "Q2. What are the two most popular try statement variations?"
   ]
  },
  {
   "cell_type": "code",
   "execution_count": null,
   "id": "3d92a906",
   "metadata": {},
   "outputs": [],
   "source": [
    "Ans:\n",
    "The Popular try statement variations are:\n",
    "\n",
    "1.try,except\n",
    "2.try,except,finally\n",
    "3.try,except,finally,else\n",
    "The try block is used to check code for exceptions during runtime. ie code inside try block will execute completely when \n",
    "there is no error in the program. Whereas the code inside except block will execute whenever the program encounters some \n",
    "error in the preceeding try block.\n",
    "\n",
    "Whereas the code enters the else block if and only if the try clause does not raise and exception. The code in the finally\n",
    "block will execute irrespective of exception."
   ]
  },
  {
   "cell_type": "code",
   "execution_count": null,
   "id": "4ca333ca",
   "metadata": {},
   "outputs": [],
   "source": []
  },
  {
   "cell_type": "code",
   "execution_count": null,
   "id": "851e44d9",
   "metadata": {},
   "outputs": [],
   "source": [
    "Q3. What is the purpose of the raise statement?"
   ]
  },
  {
   "cell_type": "code",
   "execution_count": null,
   "id": "c7f44d3d",
   "metadata": {},
   "outputs": [],
   "source": [
    "Ans: raise statement is used to trigger an exception explicitly, if a certain condition is not as per requirement of programmer. \n",
    "    raise statement helps in triggering exception as per programming logic."
   ]
  },
  {
   "cell_type": "code",
   "execution_count": null,
   "id": "933bda21",
   "metadata": {},
   "outputs": [],
   "source": []
  },
  {
   "cell_type": "code",
   "execution_count": null,
   "id": "58825543",
   "metadata": {},
   "outputs": [],
   "source": [
    "Q4. What does the assert statement do, and what other statement is it like?"
   ]
  },
  {
   "cell_type": "code",
   "execution_count": null,
   "id": "c0802023",
   "metadata": {},
   "outputs": [],
   "source": [
    "Ans:  There are few assertions that programmer always want to be true to avoid code failure. This type of \n",
    "    requirement is fulfilled by assert statement. This statement takes a boolean condition output of which is True, \n",
    "    Further Program Executes. if output of assert statement is False, it raises an Assertion Error."
   ]
  },
  {
   "cell_type": "code",
   "execution_count": null,
   "id": "fd085cf1",
   "metadata": {},
   "outputs": [],
   "source": []
  },
  {
   "cell_type": "code",
   "execution_count": null,
   "id": "fccce081",
   "metadata": {},
   "outputs": [],
   "source": [
    "Q5. What is the purpose of the with/as argument, and what other statement is it like?"
   ]
  },
  {
   "cell_type": "code",
   "execution_count": null,
   "id": "7a51a107",
   "metadata": {},
   "outputs": [],
   "source": [
    "Ans: with/as statement simplifies use of file handling in python. When we use a with statement for file reading, \n",
    "    there is no need for programmer to explicitly takecare of activities like resource deallocation and file closing \n",
    "    by using file.close() method. with statement itself ensures proper acquisition and release of resources. this avoids \n",
    "    triggering of exceptions if file closing is unknowingly forgotten in the code execution."
   ]
  },
  {
   "cell_type": "code",
   "execution_count": null,
   "id": "097983b7",
   "metadata": {},
   "outputs": [],
   "source": []
  }
 ],
 "metadata": {
  "kernelspec": {
   "display_name": "Python 3 (ipykernel)",
   "language": "python",
   "name": "python3"
  },
  "language_info": {
   "codemirror_mode": {
    "name": "ipython",
    "version": 3
   },
   "file_extension": ".py",
   "mimetype": "text/x-python",
   "name": "python",
   "nbconvert_exporter": "python",
   "pygments_lexer": "ipython3",
   "version": "3.9.12"
  }
 },
 "nbformat": 4,
 "nbformat_minor": 5
}
