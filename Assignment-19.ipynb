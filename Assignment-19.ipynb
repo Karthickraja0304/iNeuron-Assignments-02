{
 "cells": [
  {
   "cell_type": "code",
   "execution_count": null,
   "id": "d524cbb6",
   "metadata": {},
   "outputs": [],
   "source": [
    "Q1. Define the relationship between a class and its instances. Is it a one-to-one or a one-to-many partnership, for example?"
   ]
  },
  {
   "cell_type": "code",
   "execution_count": null,
   "id": "5b323bc5",
   "metadata": {},
   "outputs": [],
   "source": [
    "Ans: Relationship between a class and its instances is a one to many partnership."
   ]
  },
  {
   "cell_type": "code",
   "execution_count": null,
   "id": "d98f6672",
   "metadata": {},
   "outputs": [],
   "source": []
  },
  {
   "cell_type": "code",
   "execution_count": null,
   "id": "1336a4b9",
   "metadata": {},
   "outputs": [],
   "source": [
    "Q2. What kind of data is held only in an instance?"
   ]
  },
  {
   "cell_type": "code",
   "execution_count": null,
   "id": "f05a209a",
   "metadata": {},
   "outputs": [],
   "source": [
    "Ans: Instance objects contains the Instance variables which are specific to that specific Instance object."
   ]
  },
  {
   "cell_type": "code",
   "execution_count": null,
   "id": "91edc34a",
   "metadata": {},
   "outputs": [],
   "source": []
  },
  {
   "cell_type": "code",
   "execution_count": null,
   "id": "17b2b603",
   "metadata": {},
   "outputs": [],
   "source": [
    "Q3. What kind of knowledge is stored in a class?"
   ]
  },
  {
   "cell_type": "code",
   "execution_count": null,
   "id": "8b201027",
   "metadata": {},
   "outputs": [],
   "source": [
    "Ans:  Class creates a user-defined data structure, which holds its own data members and member functions, which can \n",
    "    be accessed and used by creating an instance of that class. A class is like a blueprint for an object."
   ]
  },
  {
   "cell_type": "code",
   "execution_count": null,
   "id": "943c36ed",
   "metadata": {},
   "outputs": [],
   "source": []
  },
  {
   "cell_type": "code",
   "execution_count": null,
   "id": "b097c367",
   "metadata": {},
   "outputs": [],
   "source": [
    "Q4. What exactly is a method, and how is it different from a regular function?"
   ]
  },
  {
   "cell_type": "code",
   "execution_count": null,
   "id": "3a0f5662",
   "metadata": {},
   "outputs": [],
   "source": [
    "Ans: The methods with a class can be used to access the insatnce variables of its instance. So,the object's state can be \n",
    "    modified by its method. Function can't access the attributes of an instance of a class or can't modify the state of \n",
    "    the object."
   ]
  },
  {
   "cell_type": "code",
   "execution_count": null,
   "id": "81a9255c",
   "metadata": {},
   "outputs": [],
   "source": []
  },
  {
   "cell_type": "code",
   "execution_count": null,
   "id": "6a260166",
   "metadata": {},
   "outputs": [],
   "source": [
    "Q5. Is inheritance supported in Python, and if so, what is the syntax?"
   ]
  },
  {
   "cell_type": "code",
   "execution_count": null,
   "id": "0ce861ad",
   "metadata": {},
   "outputs": [],
   "source": [
    "Ans:\n",
    "Yes,Python supports inheritance. The Types of Inheritence Supported by Python are:\n",
    "\n",
    "Simple Inheritence\n",
    "Multiple Inheritence\n",
    "Multilevel lInheritence\n",
    "Hybrid Inheritence\n",
    "Hierracial Inheritenc"
   ]
  },
  {
   "cell_type": "code",
   "execution_count": null,
   "id": "42682988",
   "metadata": {},
   "outputs": [],
   "source": []
  },
  {
   "cell_type": "code",
   "execution_count": null,
   "id": "898fa210",
   "metadata": {},
   "outputs": [],
   "source": [
    "Q6. How much encapsulation (making instance or class variables private) does Python support?"
   ]
  },
  {
   "cell_type": "code",
   "execution_count": null,
   "id": "07a1b7c5",
   "metadata": {},
   "outputs": [],
   "source": [
    "Ans:\n",
    "Encapsulation describes the idea of wrapping data and the methods that work on data within one unit. This puts \n",
    "restrictions on accessing variables and methods directly and can prevent the accidental modification of data. To \n",
    "prevent accidental change, an objects variable can only be changed by an objects method."
   ]
  },
  {
   "cell_type": "code",
   "execution_count": null,
   "id": "5a6ccf51",
   "metadata": {},
   "outputs": [],
   "source": []
  },
  {
   "cell_type": "code",
   "execution_count": null,
   "id": "4a97bda6",
   "metadata": {},
   "outputs": [],
   "source": [
    "Q7. How do you distinguish between a class variable and an instance variable?"
   ]
  },
  {
   "cell_type": "code",
   "execution_count": null,
   "id": "9f2e05fe",
   "metadata": {},
   "outputs": [],
   "source": [
    "Ans:\n",
    "The Class Attribute is available to all the instance objects of that class. whereas Instance Attributes are accessible only \n",
    "to the object or Instance of that class.\n",
    "\n",
    "A single copy of Class attributes is maintained by pvm at the class level. Whereas difference copies of instance attributes\n",
    "are maintained by pvm at objects/instance level."
   ]
  },
  {
   "cell_type": "code",
   "execution_count": null,
   "id": "823e9261",
   "metadata": {},
   "outputs": [],
   "source": []
  },
  {
   "cell_type": "code",
   "execution_count": null,
   "id": "b9e9b695",
   "metadata": {},
   "outputs": [],
   "source": [
    "Q8. When, if ever, can self be included in a class's method definitions?"
   ]
  },
  {
   "cell_type": "code",
   "execution_count": null,
   "id": "1a496b82",
   "metadata": {},
   "outputs": [],
   "source": [
    "Ans:Yes, self can included in class method definations to access the instance variables inside class methods."
   ]
  },
  {
   "cell_type": "code",
   "execution_count": null,
   "id": "aea3f2cc",
   "metadata": {},
   "outputs": [],
   "source": []
  },
  {
   "cell_type": "code",
   "execution_count": null,
   "id": "3b0686fc",
   "metadata": {},
   "outputs": [],
   "source": [
    "Q9. What is the difference between the _ _add_ _ and the _ _radd_ _ methods?"
   ]
  },
  {
   "cell_type": "code",
   "execution_count": null,
   "id": "36ba9816",
   "metadata": {},
   "outputs": [],
   "source": [
    "Ans: Entering __radd__ Python will first try __add__(), and if that returns Not Implemented Python will check if the right-hand\n",
    "    operand implements __radd__, and if it does, it will call __radd__() rather than raising a TypeError"
   ]
  },
  {
   "cell_type": "code",
   "execution_count": null,
   "id": "e209507c",
   "metadata": {},
   "outputs": [],
   "source": []
  },
  {
   "cell_type": "code",
   "execution_count": null,
   "id": "23834c22",
   "metadata": {},
   "outputs": [],
   "source": [
    "Q10. When is it necessary to use a reflection method? When do you not need it, even though you support the operation \n",
    "     in question?"
   ]
  },
  {
   "cell_type": "code",
   "execution_count": null,
   "id": "e14c41cf",
   "metadata": {},
   "outputs": [],
   "source": [
    "Ans: Reflection method we often encounter the requirement that a method in the executing object, or a variable in the \n",
    "    calling object, or a field of the object should be assigned, while the method name or field name can not be determined\n",
    "    when encoding the code, and need to be input in the form of passing strings through parameters."
   ]
  },
  {
   "cell_type": "code",
   "execution_count": null,
   "id": "7cb1aa1c",
   "metadata": {},
   "outputs": [],
   "source": []
  },
  {
   "cell_type": "code",
   "execution_count": null,
   "id": "371f758d",
   "metadata": {},
   "outputs": [],
   "source": [
    "Q11. What is the _ _iadd_ _ method called?"
   ]
  },
  {
   "cell_type": "code",
   "execution_count": null,
   "id": "ae358632",
   "metadata": {},
   "outputs": [],
   "source": [
    "Ans: __iadd__ method is called when we use implementation like a+=b which is a.__iadd__(b)"
   ]
  },
  {
   "cell_type": "code",
   "execution_count": null,
   "id": "a5fb6475",
   "metadata": {},
   "outputs": [],
   "source": []
  },
  {
   "cell_type": "code",
   "execution_count": null,
   "id": "e955fd65",
   "metadata": {},
   "outputs": [],
   "source": [
    "Q12. Is the _ _init_ _ method inherited by subclasses? What do you do if you need to customize its behavior within a subclass?"
   ]
  },
  {
   "cell_type": "code",
   "execution_count": null,
   "id": "d16106f4",
   "metadata": {},
   "outputs": [],
   "source": [
    "Ans: Yes, __init__ method will be inherited by subclasses. if we want to customize its behaviour within a subclass we can \n",
    "    use super() method."
   ]
  },
  {
   "cell_type": "code",
   "execution_count": null,
   "id": "e3880379",
   "metadata": {},
   "outputs": [],
   "source": []
  }
 ],
 "metadata": {
  "kernelspec": {
   "display_name": "Python 3 (ipykernel)",
   "language": "python",
   "name": "python3"
  },
  "language_info": {
   "codemirror_mode": {
    "name": "ipython",
    "version": 3
   },
   "file_extension": ".py",
   "mimetype": "text/x-python",
   "name": "python",
   "nbconvert_exporter": "python",
   "pygments_lexer": "ipython3",
   "version": "3.9.12"
  }
 },
 "nbformat": 4,
 "nbformat_minor": 5
}
