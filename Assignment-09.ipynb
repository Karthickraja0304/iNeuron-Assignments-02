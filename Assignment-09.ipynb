{
 "cells": [
  {
   "cell_type": "code",
   "execution_count": null,
   "id": "067be248",
   "metadata": {},
   "outputs": [],
   "source": [
    "Q1. In Python 3.X, what are the names and functions of string object types?"
   ]
  },
  {
   "cell_type": "code",
   "execution_count": null,
   "id": "f4543902",
   "metadata": {},
   "outputs": [],
   "source": [
    "Ans:\n",
    "The following are the names and functions of string object types in Python 3.X\n",
    "\n",
    "1.<stirng>.isdecimal() -> Returns True if all characters in a string are decimal.\n",
    "2.<string>.isalnum() -> Returns True if all characters in the string are AlphaNumeric.\n",
    "3.<string>.istitle() -> Returns True if first character in a string is in Uppercase.\n",
    "4.<string>.partition(<sub_string>) -> Splits string at first occurance of sub string and returns a tuple of 3 elements.\n",
    "5.<string>.rpartition(<sub_string>) -> Splits string at last occurance of sub string and returns a tuple of 3 elements.\n",
    "6.<string>.isidentifier() -> Returns True if give string is a valid identifier name.\n",
    "7.len(<string>) -> Returns the length of the given string.\n",
    "8.<string>.index(<sub_string>) -> Returns the lowest index of substring if substring is found in the string.\n",
    "9.<string>.rindex(<sub_string>) -> Returns the highest index of substring if substring is found in the string.\n",
    "10.max(<string>) -> Returns the highest Alphabetical Character in the string as per ASCII.\n",
    "11.min(<string>) -> Returns the lowest Alphabetical Character in the string as per ASCII.\n",
    "12.<string>.splitlines() -> Returns a list of lines in the string.\n",
    "13.<string>.capitalize() -> Returns the string with first character capitalized.\n",
    "14.<string>.upper() -> Returns the string with all characters in uppercase.\n",
    "15.<string>.lower() -> Returns the string with all characters in lowercase\n",
    "16.<string>.casefold() -> Returns the string in lowercase which can be used for caseless comparisions.\n",
    "17.<string>.expandtabs(no_of_spaces) -> Replaces tabs in a string with specified no of spaces default is 8\n",
    "18.<string>.find(<sub_string>) -> Returns lowest index of substring if substring is found in the string else returns -1.\n",
    "19.<string>.rfind(<sub_string>) -> Returns highest index of substring if substring is found in the string else returns -1.\n",
    "20.<string>.count(<char>) -> Returns the no of occurances of the char in the given string.\n",
    "21.<string>.split(<sep>) -> Returns list of words seperated by given sep else seperated by whitespace.\n",
    "22.<string>.rsplit(<sep>) -> Returns list of words seperated by given sep else seperated by whitespace scanning from end.\n",
    "23.<string>.lstrip() -> Returns a copy of where leading whitespaces are removed.\n",
    "24.<string>.rstrip() -> Returns a copy of where trailed whitespaces are removed.\n",
    "25.<string>.strip() -> Returns a copy of where both leading and trailing whitespaces are removed.\n",
    "26.<string>.swapcase() -> Swaps lowercase characters with uppercase and vice versa.\n",
    "27.<sep>.join(<list>) -> Concatenates a list or tuple of words with intervening occuernces of sep.\n",
    "28.<string>.translate(<mapping_table>) -> translates the characters using table.\n",
    "29.<string>.maketrans(<dict>) -> Creating a mapping translation tbale usable for <string>.translate(<mapping_table>)\n",
    "30.<string>.replace(<char_1>,<char_2>) -> Replace all occurances of char_1 with char_2 in string.\n",
    "31.<string>.encode() -> Encodes string into any encoding supported by python. Default encoding is UTF-8.\n",
    "32.<string>.ljust(<no_of_spaces>) -> Left-justify in a field of given width.\n",
    "33.<string>.rjust(<no_of_spaces>) -> Right-justify in a field of given width.\n",
    "34.<string>.center(<no_of_spaces>) -> Center-justify in a field of given width.\n",
    "35.<stirng>.zfill(<length>) -> Zfill adds zeros to the begining of string until the specified length is reached."
   ]
  },
  {
   "cell_type": "code",
   "execution_count": null,
   "id": "204faeb3",
   "metadata": {},
   "outputs": [],
   "source": []
  },
  {
   "cell_type": "code",
   "execution_count": null,
   "id": "ba8aa973",
   "metadata": {},
   "outputs": [],
   "source": [
    "Q2. How do the string forms in Python 3.X vary in terms of operations?"
   ]
  },
  {
   "cell_type": "code",
   "execution_count": null,
   "id": "837f6bbd",
   "metadata": {},
   "outputs": [],
   "source": [
    "Ans:In Python3 default format of strings is Unicode Whereas in Pyton2 we need to explicitly mention Unicode value using u."
   ]
  },
  {
   "cell_type": "code",
   "execution_count": null,
   "id": "ceb71e91",
   "metadata": {},
   "outputs": [],
   "source": []
  },
  {
   "cell_type": "code",
   "execution_count": null,
   "id": "a4023fee",
   "metadata": {},
   "outputs": [],
   "source": [
    "Q3. In 3.X, how do you put non-ASCII Unicode characters in a string?"
   ]
  },
  {
   "cell_type": "code",
   "execution_count": null,
   "id": "8da6f44f",
   "metadata": {},
   "outputs": [],
   "source": [
    "Ans:In Python 3.x unidecode() method from unidecode library can be used to put non-ASCII Unicode Characters in a string."
   ]
  },
  {
   "cell_type": "code",
   "execution_count": null,
   "id": "1bb675eb",
   "metadata": {},
   "outputs": [],
   "source": []
  },
  {
   "cell_type": "code",
   "execution_count": null,
   "id": "aefdb8b5",
   "metadata": {},
   "outputs": [],
   "source": [
    "Q4. In Python 3.X, what are the key differences between text-mode and binary-mode files?"
   ]
  },
  {
   "cell_type": "code",
   "execution_count": null,
   "id": "40616442",
   "metadata": {},
   "outputs": [],
   "source": [
    "Ans: The major difference between these two is that a text file contains textual information in the form of alphabets, \n",
    "    digits and special characters or symbols. On the other hand, a binary file contains bytes or a compiled version of \n",
    "    a text file.\n",
    "\n",
    "When a file is opened in text mode, reading its data automatically decodes its content (as per the platform default or as \n",
    "per provided encoding), and returns it as a str; writing operation takes a str, and automatically encodes it before \n",
    "transferring to the file. Text mode files also support universal end-of-line translation, and encoding specification \n",
    "arguments.\n",
    "\n",
    "When a file is opened in binary mode by adding a b to the mode string argument in the open() call, reading its data does \n",
    "not decode it in any way, and simply returns its content raw and unchanged, as a bytes object; writing takes a bytes object\n",
    "and transfers it to the file unchanged. Binary-mode files also accept a bytearray object for the content to be written to the\n",
    "file."
   ]
  },
  {
   "cell_type": "code",
   "execution_count": null,
   "id": "e207c820",
   "metadata": {},
   "outputs": [],
   "source": []
  },
  {
   "cell_type": "code",
   "execution_count": null,
   "id": "2f58e8e1",
   "metadata": {},
   "outputs": [],
   "source": [
    "Q5. How can you interpret a Unicode text file containing text encoded in a different encoding than your platform's default?"
   ]
  },
  {
   "cell_type": "code",
   "execution_count": null,
   "id": "89b5784b",
   "metadata": {},
   "outputs": [],
   "source": [
    "Ans: Use of encode() and decode() method can be used to you interpret a Unicode text file containing text encoded in a \n",
    "    different encoding than your platform's default, by default encoding parameter is UTF-8"
   ]
  },
  {
   "cell_type": "code",
   "execution_count": null,
   "id": "fb48082d",
   "metadata": {},
   "outputs": [],
   "source": []
  },
  {
   "cell_type": "code",
   "execution_count": null,
   "id": "907c398f",
   "metadata": {},
   "outputs": [],
   "source": [
    "Q6. What is the best way to make a Unicode text file in a particular encoding format?"
   ]
  },
  {
   "cell_type": "code",
   "execution_count": null,
   "id": "0c185f2d",
   "metadata": {},
   "outputs": [],
   "source": [
    "Ans: Use str.encode() and file.write() to make a Unicode text file in a particular encoding format, default encoding format is\n",
    "    UTF-18.\n",
    "\n",
    "1.Call str.encode(encoding) with encoding set to utf8 to encode str.\n",
    "2.Call open(file, mode) to open a file with mode set to wb . wb writes to files in binary mode & preserves UTF-8format.\n",
    "3.Call file.write(data) to write data to the file."
   ]
  },
  {
   "cell_type": "code",
   "execution_count": null,
   "id": "61bf4a55",
   "metadata": {},
   "outputs": [],
   "source": []
  },
  {
   "cell_type": "code",
   "execution_count": null,
   "id": "d0fe2fe5",
   "metadata": {},
   "outputs": [],
   "source": [
    "Q7. What qualifies ASCII text as a form of Unicode text?"
   ]
  },
  {
   "cell_type": "code",
   "execution_count": null,
   "id": "67f6cd56",
   "metadata": {},
   "outputs": [],
   "source": [
    "Ans:Unicode represents most written languages in the world. ASCII has its equivalent in Unicode. The difference between \n",
    "    ASCII and Unicode is that ASCII represents lowercase letters (a-z), uppercase letters (A-Z), digits (0–9) and symbols \n",
    "    such as punctuation marks while Unicode represents letters of English, Arabic, Greek etc. mathematical symbols, \n",
    "    historical scripts, emoji covering a wide range of characters than ASCII."
   ]
  },
  {
   "cell_type": "code",
   "execution_count": null,
   "id": "35b7daa9",
   "metadata": {},
   "outputs": [],
   "source": []
  },
  {
   "cell_type": "code",
   "execution_count": null,
   "id": "cba43949",
   "metadata": {},
   "outputs": [],
   "source": [
    "Q8. How much of an effect does the change in string types in Python 3.X have on your code?"
   ]
  },
  {
   "cell_type": "code",
   "execution_count": null,
   "id": "fd30b217",
   "metadata": {},
   "outputs": [],
   "source": [
    "Ans: Python 3 stores strings as Unicode by default whereas Python 2 requires you to mark a string with a u if you want \n",
    "    to store it as Unicode. Unicode strings are more versatile than ASCII strings, which are the Python 3.X default, as\n",
    "    they can store letters from foreign languages as well as emoji and the standard Roman letters and numerals."
   ]
  },
  {
   "cell_type": "code",
   "execution_count": null,
   "id": "538ba228",
   "metadata": {},
   "outputs": [],
   "source": []
  }
 ],
 "metadata": {
  "kernelspec": {
   "display_name": "Python 3 (ipykernel)",
   "language": "python",
   "name": "python3"
  },
  "language_info": {
   "codemirror_mode": {
    "name": "ipython",
    "version": 3
   },
   "file_extension": ".py",
   "mimetype": "text/x-python",
   "name": "python",
   "nbconvert_exporter": "python",
   "pygments_lexer": "ipython3",
   "version": "3.9.12"
  }
 },
 "nbformat": 4,
 "nbformat_minor": 5
}
