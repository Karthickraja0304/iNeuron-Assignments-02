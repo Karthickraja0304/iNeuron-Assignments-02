{
 "cells": [
  {
   "cell_type": "code",
   "execution_count": null,
   "id": "166971c0",
   "metadata": {},
   "outputs": [],
   "source": [
    "Q1. What is a probability distribution, exactly? If the values are meant to be random, how can you predict them at all?"
   ]
  },
  {
   "cell_type": "code",
   "execution_count": null,
   "id": "03723104",
   "metadata": {},
   "outputs": [],
   "source": [
    "Ans:\n",
    "A probability distribution describes how a random variable is distributed.\n",
    "\n",
    "It tells us which values a random variable is most likely to take on and which values are less likely. Based on the \n",
    "previous data and the occurences of the random event, we can predict the outcome in terms of probabilities."
   ]
  },
  {
   "cell_type": "code",
   "execution_count": null,
   "id": "bb411670",
   "metadata": {},
   "outputs": [],
   "source": []
  },
  {
   "cell_type": "code",
   "execution_count": null,
   "id": "805ce0b6",
   "metadata": {},
   "outputs": [],
   "source": [
    "Q2. Is there a distinction between true random numbers and pseudo-random numbers, if there is one? Why are the \n",
    "    latter considered “good enough”?\n"
   ]
  },
  {
   "cell_type": "code",
   "execution_count": null,
   "id": "6cbe0db3",
   "metadata": {},
   "outputs": [],
   "source": [
    "Ans:\n",
    "True Random Numbers are true physical values while pseudo-random numbers are generated internally by a program . Latter \n",
    "is considered good enough as they have sort of uniform distribution."
   ]
  },
  {
   "cell_type": "code",
   "execution_count": null,
   "id": "3d2c4748",
   "metadata": {},
   "outputs": [],
   "source": []
  },
  {
   "cell_type": "code",
   "execution_count": null,
   "id": "c7f6f8da",
   "metadata": {},
   "outputs": [],
   "source": [
    "Q3. What are the two main factors that influence the behaviour of a \"normal\" probability distribution?\n"
   ]
  },
  {
   "cell_type": "code",
   "execution_count": null,
   "id": "9c92f778",
   "metadata": {},
   "outputs": [],
   "source": [
    "Ans:\n",
    "Normal Probability Distribution are influenced by two factors mean and the variance."
   ]
  },
  {
   "cell_type": "code",
   "execution_count": null,
   "id": "c5ac99d2",
   "metadata": {},
   "outputs": [],
   "source": []
  },
  {
   "cell_type": "code",
   "execution_count": null,
   "id": "d6d9b6a7",
   "metadata": {},
   "outputs": [],
   "source": [
    "Q4. Provide a real-life example of a normal distribution.\n"
   ]
  },
  {
   "cell_type": "code",
   "execution_count": null,
   "id": "95426662",
   "metadata": {},
   "outputs": [],
   "source": [
    "Ans:\n",
    "A Real-life example of a normal distribution are heights or blood pressure measurements"
   ]
  },
  {
   "cell_type": "code",
   "execution_count": null,
   "id": "afd5203c",
   "metadata": {},
   "outputs": [],
   "source": []
  },
  {
   "cell_type": "code",
   "execution_count": null,
   "id": "02ddf0d1",
   "metadata": {},
   "outputs": [],
   "source": [
    "Q5. In the short term, how can you expect a probability distribution to behave? What do you think will happen \n",
    "    as the number of trials grows?\n"
   ]
  },
  {
   "cell_type": "code",
   "execution_count": null,
   "id": "6bd693c3",
   "metadata": {},
   "outputs": [],
   "source": [
    "Ans:Variance will decrease with number of trials"
   ]
  },
  {
   "cell_type": "code",
   "execution_count": null,
   "id": "7b1fe80e",
   "metadata": {},
   "outputs": [],
   "source": []
  },
  {
   "cell_type": "code",
   "execution_count": null,
   "id": "1a701d51",
   "metadata": {},
   "outputs": [],
   "source": [
    "Q6. What kind of object can be shuffled by using random.shuffle?"
   ]
  },
  {
   "cell_type": "code",
   "execution_count": null,
   "id": "9c0a6854",
   "metadata": {},
   "outputs": [],
   "source": [
    "Ans:lists (list), strings (str) and tuples (tuple) objects can be shuffled by using random.shuffle."
   ]
  },
  {
   "cell_type": "code",
   "execution_count": null,
   "id": "2b76ebdc",
   "metadata": {},
   "outputs": [],
   "source": []
  },
  {
   "cell_type": "code",
   "execution_count": null,
   "id": "6e15c6f5",
   "metadata": {},
   "outputs": [],
   "source": [
    "Q7. Describe the math package's general categories of functions."
   ]
  },
  {
   "cell_type": "code",
   "execution_count": null,
   "id": "b09f0324",
   "metadata": {},
   "outputs": [],
   "source": [
    "Ans:\n",
    "The Math package's general categories of functions are:\n",
    "\n",
    "Trigonometric functions\n",
    "Quadratic functions\n",
    "Exponential functions\n",
    "Hyperbolic functions\n",
    "Periodic functions\n",
    "Arithmetic functions\n",
    "Logarithimic functions\n",
    "Conversions to Integer"
   ]
  },
  {
   "cell_type": "code",
   "execution_count": null,
   "id": "03b17af4",
   "metadata": {},
   "outputs": [],
   "source": []
  },
  {
   "cell_type": "code",
   "execution_count": null,
   "id": "4271e4d6",
   "metadata": {},
   "outputs": [],
   "source": [
    "Q8. What is the relationship between exponentiation and logarithms?"
   ]
  },
  {
   "cell_type": "code",
   "execution_count": null,
   "id": "de910c4b",
   "metadata": {},
   "outputs": [],
   "source": [
    "Ans:Exponentiation and logarithms are inverse of each other"
   ]
  },
  {
   "cell_type": "code",
   "execution_count": null,
   "id": "b1f1a55d",
   "metadata": {},
   "outputs": [],
   "source": []
  },
  {
   "cell_type": "code",
   "execution_count": null,
   "id": "66c7459f",
   "metadata": {},
   "outputs": [],
   "source": [
    "Q9. What are the three logarithmic functions that Python supports?"
   ]
  },
  {
   "cell_type": "code",
   "execution_count": null,
   "id": "94f9343a",
   "metadata": {},
   "outputs": [],
   "source": [
    "Ans:\n",
    "The Three Logarithmic Functions that Python supports are:\n",
    "\n",
    "log2(x) - logarithmic value of x to base 2\n",
    "log10(x) - logarithmic value of x to base 10\n",
    "log1p(a) - This function is used to compute logarithm(1+a)"
   ]
  },
  {
   "cell_type": "code",
   "execution_count": null,
   "id": "08aa07f5",
   "metadata": {},
   "outputs": [],
   "source": []
  }
 ],
 "metadata": {
  "kernelspec": {
   "display_name": "Python 3 (ipykernel)",
   "language": "python",
   "name": "python3"
  },
  "language_info": {
   "codemirror_mode": {
    "name": "ipython",
    "version": 3
   },
   "file_extension": ".py",
   "mimetype": "text/x-python",
   "name": "python",
   "nbconvert_exporter": "python",
   "pygments_lexer": "ipython3",
   "version": "3.9.12"
  }
 },
 "nbformat": 4,
 "nbformat_minor": 5
}
