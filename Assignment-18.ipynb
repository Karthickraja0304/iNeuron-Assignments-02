{
 "cells": [
  {
   "cell_type": "code",
   "execution_count": null,
   "id": "80cb8fcf",
   "metadata": {},
   "outputs": [],
   "source": [
    "Q1. Describe the differences between text and binary files in a single paragraph."
   ]
  },
  {
   "cell_type": "code",
   "execution_count": null,
   "id": "152e1c6c",
   "metadata": {},
   "outputs": [],
   "source": [
    "Ans:\n",
    "The differences between Text Files and Binary Files are:\n",
    "\n",
    "Text files are special subset of binary files that are used to store human readable characters as a rich text document \n",
    "or plain text document. Text files also store data in sequential bytes but bits in text file represents characters.\n",
    "\n",
    "Binary files are those typical files that store data in the form of sequence of bytes grouped into eight bits or sometimes\n",
    "sixteen bits. These bits represent custom data and such files can store multiple types of data (images, audio, text, etc) \n",
    "under a single file."
   ]
  },
  {
   "cell_type": "code",
   "execution_count": null,
   "id": "8615bfe8",
   "metadata": {},
   "outputs": [],
   "source": []
  },
  {
   "cell_type": "code",
   "execution_count": null,
   "id": "9ff0a92b",
   "metadata": {},
   "outputs": [],
   "source": [
    "Q2. What are some scenarios where using text files will be the better option? When would you like to use binary \n",
    "    files instead of text files?"
   ]
  },
  {
   "cell_type": "code",
   "execution_count": null,
   "id": "1c19bd78",
   "metadata": {},
   "outputs": [],
   "source": [
    "Ans:\n",
    "Text files are less prone to get corrupted as any undesired change may just show up once the file is opened and then can \n",
    "easily be removed. Whereas Use binary files instead of text files for image data."
   ]
  },
  {
   "cell_type": "code",
   "execution_count": null,
   "id": "e75e1559",
   "metadata": {},
   "outputs": [],
   "source": []
  },
  {
   "cell_type": "code",
   "execution_count": null,
   "id": "23003183",
   "metadata": {},
   "outputs": [],
   "source": [
    "Q3. What are some of the issues with using binary operations to read and write a Python integer directly to disc?"
   ]
  },
  {
   "cell_type": "code",
   "execution_count": null,
   "id": "1b567123",
   "metadata": {},
   "outputs": [],
   "source": [
    "Ans:\n",
    "When we read or write a python integer using binary operations\n",
    "\n",
    "1.Binary operations deal with raw data\n",
    "2.One needs to identify how many bytes one would read or write."
   ]
  },
  {
   "cell_type": "code",
   "execution_count": null,
   "id": "cc156141",
   "metadata": {},
   "outputs": [],
   "source": []
  },
  {
   "cell_type": "code",
   "execution_count": null,
   "id": "cbcbc16b",
   "metadata": {},
   "outputs": [],
   "source": [
    "Q4. Describe a benefit of using the with keyword instead of explicitly opening a file."
   ]
  },
  {
   "cell_type": "code",
   "execution_count": null,
   "id": "7f80c540",
   "metadata": {},
   "outputs": [],
   "source": [
    "Ans:\n",
    "When a file is opened using the with keyword, if some exceptions occur after opening a file, or at the end of the file\n",
    "it automatically does the closing of the file. There by not leaving an file in open mode and there would no need to explicitly\n",
    "close a file."
   ]
  },
  {
   "cell_type": "code",
   "execution_count": null,
   "id": "762f1617",
   "metadata": {},
   "outputs": [],
   "source": []
  },
  {
   "cell_type": "code",
   "execution_count": null,
   "id": "3853460f",
   "metadata": {},
   "outputs": [],
   "source": [
    "Q5. Does Python have the trailing newline while reading a line of text? Does Python append a newline when you write a \n",
    "    line of text?"
   ]
  },
  {
   "cell_type": "code",
   "execution_count": null,
   "id": "53c33be7",
   "metadata": {},
   "outputs": [],
   "source": [
    "Ans:\n",
    "Yes, Python have the trailing newline while reading a line of text. When we write a newline has to be provided in \n",
    "python excpicitly."
   ]
  },
  {
   "cell_type": "code",
   "execution_count": null,
   "id": "36d0df29",
   "metadata": {},
   "outputs": [],
   "source": []
  },
  {
   "cell_type": "code",
   "execution_count": null,
   "id": "8d2fda92",
   "metadata": {},
   "outputs": [],
   "source": [
    "Q6. What file operations enable for random-access operation?"
   ]
  },
  {
   "cell_type": "code",
   "execution_count": null,
   "id": "40abeac0",
   "metadata": {},
   "outputs": [],
   "source": [
    "Ans: The file operations enable for random-access operation are seek() and tell()"
   ]
  },
  {
   "cell_type": "code",
   "execution_count": null,
   "id": "f7272d4a",
   "metadata": {},
   "outputs": [],
   "source": []
  },
  {
   "cell_type": "code",
   "execution_count": null,
   "id": "3a7994eb",
   "metadata": {},
   "outputs": [],
   "source": [
    "Q7. When do you think you'll use the struct package the most?"
   ]
  },
  {
   "cell_type": "code",
   "execution_count": null,
   "id": "d61a7ad8",
   "metadata": {},
   "outputs": [],
   "source": [
    "Ans: The struct package is mostly used while converting a common python types into C language types."
   ]
  },
  {
   "cell_type": "code",
   "execution_count": null,
   "id": "f9bc731d",
   "metadata": {},
   "outputs": [],
   "source": []
  },
  {
   "cell_type": "code",
   "execution_count": null,
   "id": "3799c545",
   "metadata": {},
   "outputs": [],
   "source": [
    "Q8. When is pickling the best option?"
   ]
  },
  {
   "cell_type": "code",
   "execution_count": null,
   "id": "7ef4a227",
   "metadata": {},
   "outputs": [],
   "source": [
    "Ans: Pickling is best option for creating a new binary file using python"
   ]
  },
  {
   "cell_type": "code",
   "execution_count": null,
   "id": "64c42f68",
   "metadata": {},
   "outputs": [],
   "source": []
  },
  {
   "cell_type": "code",
   "execution_count": null,
   "id": "2b57a351",
   "metadata": {},
   "outputs": [],
   "source": [
    "Q9. When will it be best to use the shelve package?"
   ]
  },
  {
   "cell_type": "code",
   "execution_count": null,
   "id": "68574d7e",
   "metadata": {},
   "outputs": [],
   "source": [
    "Ans: Shelve package is used to pickle data but treats the entire file as dictionary."
   ]
  },
  {
   "cell_type": "code",
   "execution_count": null,
   "id": "96727446",
   "metadata": {},
   "outputs": [],
   "source": []
  },
  {
   "cell_type": "code",
   "execution_count": null,
   "id": "35372813",
   "metadata": {},
   "outputs": [],
   "source": [
    "Q10. What is a special restriction when using the shelve package, as opposed to using other data dictionaries?"
   ]
  },
  {
   "cell_type": "code",
   "execution_count": null,
   "id": "ba72c5a3",
   "metadata": {},
   "outputs": [],
   "source": [
    "Ans: Only string data type can be used as key in this special dictionary object, whereas any picklable Python object \n",
    "    can be used as value."
   ]
  },
  {
   "cell_type": "code",
   "execution_count": null,
   "id": "c34b70d6",
   "metadata": {},
   "outputs": [],
   "source": []
  }
 ],
 "metadata": {
  "kernelspec": {
   "display_name": "Python 3 (ipykernel)",
   "language": "python",
   "name": "python3"
  },
  "language_info": {
   "codemirror_mode": {
    "name": "ipython",
    "version": 3
   },
   "file_extension": ".py",
   "mimetype": "text/x-python",
   "name": "python",
   "nbconvert_exporter": "python",
   "pygments_lexer": "ipython3",
   "version": "3.9.12"
  }
 },
 "nbformat": 4,
 "nbformat_minor": 5
}
