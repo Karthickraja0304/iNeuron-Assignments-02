{
 "cells": [
  {
   "cell_type": "code",
   "execution_count": null,
   "id": "25f11daf",
   "metadata": {},
   "outputs": [],
   "source": [
    "1.\tWhat are the new features added in Python 3.8 version?"
   ]
  },
  {
   "cell_type": "code",
   "execution_count": null,
   "id": "74a82337",
   "metadata": {},
   "outputs": [],
   "source": [
    "Ans:\n",
    "Some New Features Added in Python 3.8 Version are:\n",
    "\n",
    "Walrus Operator: This operator is used to assign and return a value in the same expression. This removes the need for \n",
    "initializing the variable upfront. The major benefit of this is it saves some lines of code. It is also known as The \n",
    "Walrus Operator due to its similarity to the eyes and tusks of a walrus.\n",
    "\n",
    "yield and return statements do not require parentheses to return multiple values.\n",
    "\n",
    "Reversed works with a dictionary. The built-in method reversed() can be used for accessing the elements in the reverse \n",
    "order of insertion\n",
    "\n",
    "Dict comprehensions have been modified so that the key is computed first and the value second.\n",
    "\n",
    "importlib_metadata is a new library added in the Python’s standard utility modules, that provides an API for accessing \n",
    "an installed package’s metadata, such as its entry points or its top-level name.\n",
    "\n",
    "f-strings now support = , to make string interpolation easy. Python 3.8 allows the use of the above-discussed assignment\n",
    "operator and equal sign (=) inside the f-strings.\n",
    "\n",
    "In the three-argument form of pow(), when the exponent is -1, it calculates the modular multiplicative inverse of the \n",
    "given value\n",
    "\n",
    "The csv.DictReader now returns instances of dictionary instead of a collections.OrderedDict.\n",
    "\n",
    "If you miss a comma in your code such as a = [(1, 2) (3, 4)], instead of throwing TypeError, it displays an informative \n",
    "Syntax warning."
   ]
  },
  {
   "cell_type": "code",
   "execution_count": null,
   "id": "5da5e9f5",
   "metadata": {},
   "outputs": [],
   "source": []
  },
  {
   "cell_type": "code",
   "execution_count": null,
   "id": "aa2ab5dd",
   "metadata": {},
   "outputs": [],
   "source": [
    "2.\tWhat is monkey patching in Python?"
   ]
  },
  {
   "cell_type": "code",
   "execution_count": null,
   "id": "1122239f",
   "metadata": {},
   "outputs": [],
   "source": [
    "Ans: In Python, the term monkey patch refers to making dynamic (or run-time) modifications to a class or module. \n",
    "    In Python, we can actually change the behavior of code at run-time."
   ]
  },
  {
   "cell_type": "code",
   "execution_count": null,
   "id": "e6d63930",
   "metadata": {},
   "outputs": [],
   "source": []
  },
  {
   "cell_type": "code",
   "execution_count": null,
   "id": "cdd41f25",
   "metadata": {},
   "outputs": [],
   "source": [
    "3.\tWhat is the difference between a shallow copy and deep copy?"
   ]
  },
  {
   "cell_type": "code",
   "execution_count": null,
   "id": "4de84a73",
   "metadata": {},
   "outputs": [],
   "source": [
    "Ans: \n",
    "The Differences between a Shallow Copy and deep copy are as follows:\n",
    "\n",
    "When an object is copied using copy(), it is called shallow copy as changes made in copied object will also make \n",
    "corresponding changes in original object, because both the objects will be referencing same address location.\n",
    "\n",
    "When an object is copied using deepcopy(), it is called deep copy as changes made in copied object will not make \n",
    "corresponding changes in original object, because both the objects will not be referencing same address location."
   ]
  },
  {
   "cell_type": "code",
   "execution_count": null,
   "id": "d881b8ae",
   "metadata": {},
   "outputs": [],
   "source": []
  },
  {
   "cell_type": "code",
   "execution_count": null,
   "id": "eda3fa76",
   "metadata": {},
   "outputs": [],
   "source": [
    "4.\tWhat is the maximum possible length of an identifier?"
   ]
  },
  {
   "cell_type": "code",
   "execution_count": null,
   "id": "3e7f1c01",
   "metadata": {},
   "outputs": [],
   "source": [
    "Ans:\n",
    "In Python, the highest possible length of an identifier is 79 characters. Python is a high level programming language. \n",
    "It’s also a complex form and a collector of waste.\n",
    "\n",
    "1.Python, particularly when combined with identifiers, is case-sensitive.\n",
    "2.When writing or using identifiers in Python, it has a maximum of 79 characters.\n",
    "3.Unlikely, Python gives the identifiers unlimited length.\n",
    "4.However, the layout of PEP-8 prevents the user from breaking the rules and includes a 79-character limit."
   ]
  },
  {
   "cell_type": "code",
   "execution_count": null,
   "id": "31c73fea",
   "metadata": {},
   "outputs": [],
   "source": []
  },
  {
   "cell_type": "code",
   "execution_count": null,
   "id": "f9bb9e43",
   "metadata": {},
   "outputs": [],
   "source": [
    "5.\tWhat is generator comprehension?"
   ]
  },
  {
   "cell_type": "code",
   "execution_count": null,
   "id": "60f11f56",
   "metadata": {},
   "outputs": [],
   "source": [
    "Ans:\n",
    "A generator comprehension is a single-line specification for defining a generator in Python.\n",
    "\n",
    "1.It is absolutely essential to learn this syntax in order to write simple and readable code.\n",
    "2.Generator comprehension uses round bracket unlike square bracket in list comprehension.\n",
    "3.The generator yields one item at a time and generates item only when in demand. Whereas, in a list comprehension, \n",
    "Python reserves memory for the whole list. Thus we can say that the generator expressions are memory efficient than \n",
    "the lists."
   ]
  },
  {
   "cell_type": "code",
   "execution_count": null,
   "id": "deb40edf",
   "metadata": {},
   "outputs": [],
   "source": []
  }
 ],
 "metadata": {
  "kernelspec": {
   "display_name": "Python 3 (ipykernel)",
   "language": "python",
   "name": "python3"
  },
  "language_info": {
   "codemirror_mode": {
    "name": "ipython",
    "version": 3
   },
   "file_extension": ".py",
   "mimetype": "text/x-python",
   "name": "python",
   "nbconvert_exporter": "python",
   "pygments_lexer": "ipython3",
   "version": "3.9.12"
  }
 },
 "nbformat": 4,
 "nbformat_minor": 5
}
