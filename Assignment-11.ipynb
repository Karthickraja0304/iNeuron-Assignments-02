{
 "cells": [
  {
   "cell_type": "code",
   "execution_count": null,
   "id": "a413c988",
   "metadata": {},
   "outputs": [],
   "source": [
    "Q1. What is the concept of a metaclass?"
   ]
  },
  {
   "cell_type": "code",
   "execution_count": null,
   "id": "4816b56d",
   "metadata": {},
   "outputs": [],
   "source": [
    "Ans:Metaclass in Python is a class of a class that defines how a class behaves. A class is itself a instance of \n",
    "    Metaclass, and any Instance of Class in Python is an Instance of type metaclass. E.g. Type of of int, str, float, \n",
    "    list, tuple and many more is of metaclass type."
   ]
  },
  {
   "cell_type": "code",
   "execution_count": null,
   "id": "60f0f054",
   "metadata": {},
   "outputs": [],
   "source": []
  },
  {
   "cell_type": "code",
   "execution_count": null,
   "id": "f1135517",
   "metadata": {},
   "outputs": [],
   "source": [
    "Q2. What is the best way to declare a class's metaclass?"
   ]
  },
  {
   "cell_type": "code",
   "execution_count": null,
   "id": "fe3c44cb",
   "metadata": {},
   "outputs": [],
   "source": [
    "Ans:A way to declare a class’ metaclass is by using metaclass keyword in class definition."
   ]
  },
  {
   "cell_type": "code",
   "execution_count": null,
   "id": "6473210c",
   "metadata": {},
   "outputs": [],
   "source": []
  },
  {
   "cell_type": "code",
   "execution_count": null,
   "id": "43487b47",
   "metadata": {},
   "outputs": [],
   "source": [
    "Q3. How do class decorators overlap with metaclasses for handling classes?"
   ]
  },
  {
   "cell_type": "code",
   "execution_count": null,
   "id": "56575826",
   "metadata": {},
   "outputs": [],
   "source": [
    "Ans:Anything you can do with a class decorator, you can of course do with a custom metaclasses \n",
    "    (just apply the functionality of the \"decorator function\", i.e., the one that takes a class \n",
    "     object and modifies it, in the course of the metaclass's __new__ or __init__ that make the \n",
    "     class object!)."
   ]
  },
  {
   "cell_type": "code",
   "execution_count": null,
   "id": "4c584ca9",
   "metadata": {},
   "outputs": [],
   "source": []
  },
  {
   "cell_type": "code",
   "execution_count": null,
   "id": "64e3b40a",
   "metadata": {},
   "outputs": [],
   "source": [
    "Q4. How do class decorators overlap with metaclasses for handling instances?"
   ]
  },
  {
   "cell_type": "code",
   "execution_count": null,
   "id": "776bf449",
   "metadata": {},
   "outputs": [],
   "source": [
    "Ans: Anything you can do with a class decorator, you can of course do with a custom metaclass (just apply the\n",
    "    functionality of the \"decorator function\", i.e., the one that takes a class object and modifies it, in the \n",
    "    course of the metaclass's __new__ or __init__ that make the class object!)."
   ]
  },
  {
   "cell_type": "code",
   "execution_count": null,
   "id": "971d568b",
   "metadata": {},
   "outputs": [],
   "source": []
  }
 ],
 "metadata": {
  "kernelspec": {
   "display_name": "Python 3 (ipykernel)",
   "language": "python",
   "name": "python3"
  },
  "language_info": {
   "codemirror_mode": {
    "name": "ipython",
    "version": 3
   },
   "file_extension": ".py",
   "mimetype": "text/x-python",
   "name": "python",
   "nbconvert_exporter": "python",
   "pygments_lexer": "ipython3",
   "version": "3.9.12"
  }
 },
 "nbformat": 4,
 "nbformat_minor": 5
}
