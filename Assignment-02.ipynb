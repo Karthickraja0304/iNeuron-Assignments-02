{
 "cells": [
  {
   "cell_type": "code",
   "execution_count": null,
   "id": "27ccdb69",
   "metadata": {},
   "outputs": [],
   "source": [
    "Q1. What is the relationship between classes and modules?"
   ]
  },
  {
   "cell_type": "code",
   "execution_count": null,
   "id": "9b12169b",
   "metadata": {},
   "outputs": [],
   "source": [
    "Ans: A Python class is like an outline/blueprint/mold for creating a new object. An object is anything that \n",
    "     you wish to manipulate or change while working through the code. Every time a class object is instantiated, \n",
    "     which is when we declare a variable, a new object is initiated from scratch\n",
    "\n",
    "Whereas in Python, Modules are simply files with the . py extension containing Python code that can be imported \n",
    "inside another Python Program. In simple terms, we can consider a module to be the same as a code library or a file \n",
    "that contains a set of functions/Classes that you want to include in your application."
   ]
  },
  {
   "cell_type": "code",
   "execution_count": null,
   "id": "d91de117",
   "metadata": {},
   "outputs": [],
   "source": []
  },
  {
   "cell_type": "code",
   "execution_count": null,
   "id": "c388bd70",
   "metadata": {},
   "outputs": [],
   "source": [
    "Q2. How do you make instances and classes?"
   ]
  },
  {
   "cell_type": "code",
   "execution_count": null,
   "id": "f267be21",
   "metadata": {},
   "outputs": [],
   "source": [
    "Ans: For creating a class instance. we call a class by its name and pass the arguments which its __init__ method accepts.\n",
    "Whereas for creating a class, we use the Class keyword. Class keyword is followed by classname and semicolon"
   ]
  },
  {
   "cell_type": "code",
   "execution_count": null,
   "id": "6d14fd11",
   "metadata": {},
   "outputs": [],
   "source": []
  },
  {
   "cell_type": "code",
   "execution_count": null,
   "id": "7119c20f",
   "metadata": {},
   "outputs": [],
   "source": [
    "Q3. Where and how should be class attributes created?"
   ]
  },
  {
   "cell_type": "code",
   "execution_count": null,
   "id": "13e90607",
   "metadata": {},
   "outputs": [],
   "source": [
    "Ans:Class attributes or Class level Attributes belong to the class itself. these attributes will be shared by \n",
    "    all the instances of the class. Hence these attributes are usually created/defined in the top of class \n",
    "    definiation outside all methods."
   ]
  },
  {
   "cell_type": "code",
   "execution_count": null,
   "id": "7e95ba3f",
   "metadata": {},
   "outputs": [],
   "source": []
  },
  {
   "cell_type": "code",
   "execution_count": null,
   "id": "25efd87f",
   "metadata": {},
   "outputs": [],
   "source": [
    "Q4. Where and how are instance attributes created?"
   ]
  },
  {
   "cell_type": "code",
   "execution_count": null,
   "id": "c583decc",
   "metadata": {},
   "outputs": [],
   "source": [
    "Ans: Instances attributes are passed to the class when an object of the class is created. Unlike class attributes, \n",
    "    instance attributes are not shared by all objects of the classs. instead each object maintains its own copy of \n",
    "    instance attributes at object level. whereas incase of class attributes all instances of class refer to a single\n",
    "    copy. Usually instance attributes are defined within the __init__ method of class"
   ]
  },
  {
   "cell_type": "code",
   "execution_count": null,
   "id": "a907cce5",
   "metadata": {},
   "outputs": [],
   "source": []
  },
  {
   "cell_type": "code",
   "execution_count": null,
   "id": "c73b128f",
   "metadata": {},
   "outputs": [],
   "source": [
    "Q5. What does the term \"self\" in a Python class mean?"
   ]
  },
  {
   "cell_type": "code",
   "execution_count": null,
   "id": "3cf223ba",
   "metadata": {},
   "outputs": [],
   "source": [
    "Ans: self represents the instance of the class (it represents the object itself). By using the “self” keyword \n",
    "    we can access the attributes and methods of the class with in the class in python. It binds the attributes with \n",
    "    the given arguments."
   ]
  },
  {
   "cell_type": "code",
   "execution_count": null,
   "id": "073c3239",
   "metadata": {},
   "outputs": [],
   "source": []
  },
  {
   "cell_type": "code",
   "execution_count": null,
   "id": "f5d06684",
   "metadata": {},
   "outputs": [],
   "source": [
    "Q6. How does a Python class handle operator overloading?"
   ]
  },
  {
   "cell_type": "code",
   "execution_count": null,
   "id": "8a5ca4eb",
   "metadata": {},
   "outputs": [],
   "source": [
    "Ans: Python Classes handle operator overloading by using special methods called Magic methods. \n",
    "    these special methods usually begin and end with __ (double underscore)"
   ]
  },
  {
   "cell_type": "code",
   "execution_count": null,
   "id": "7631a039",
   "metadata": {},
   "outputs": [],
   "source": []
  },
  {
   "cell_type": "code",
   "execution_count": null,
   "id": "616b540e",
   "metadata": {},
   "outputs": [],
   "source": [
    "Q7. When do you consider allowing operator overloading of your classes?"
   ]
  },
  {
   "cell_type": "code",
   "execution_count": null,
   "id": "80232fad",
   "metadata": {},
   "outputs": [],
   "source": [
    "Ans: When we want to have different meaning for the same operator accroding to the context we use operator overloading."
   ]
  },
  {
   "cell_type": "code",
   "execution_count": null,
   "id": "4c07f3a6",
   "metadata": {},
   "outputs": [],
   "source": []
  },
  {
   "cell_type": "code",
   "execution_count": null,
   "id": "847ac4bf",
   "metadata": {},
   "outputs": [],
   "source": [
    "Q8. What is the most popular form of operator overloading?"
   ]
  },
  {
   "cell_type": "code",
   "execution_count": null,
   "id": "93426625",
   "metadata": {},
   "outputs": [],
   "source": [
    "Ans: The most popular form of operator overloading in python is by special methods called Magic methods. \n",
    "     Which usually beign and end with double underscore __<method name>__."
   ]
  },
  {
   "cell_type": "code",
   "execution_count": null,
   "id": "af5bfbf1",
   "metadata": {},
   "outputs": [],
   "source": []
  },
  {
   "cell_type": "code",
   "execution_count": null,
   "id": "ca0f6b03",
   "metadata": {},
   "outputs": [],
   "source": [
    "Q9. What are the two most important concepts to grasp in order to comprehend Python OOP code?"
   ]
  },
  {
   "cell_type": "code",
   "execution_count": null,
   "id": "5eae8c66",
   "metadata": {},
   "outputs": [],
   "source": [
    "Ans: Classes and objects are the two concepts to comprehend python OOP code as more formally objects \n",
    "     are entities that represent instances of general abstract concept called class"
   ]
  },
  {
   "cell_type": "code",
   "execution_count": null,
   "id": "be8149b7",
   "metadata": {},
   "outputs": [],
   "source": []
  }
 ],
 "metadata": {
  "kernelspec": {
   "display_name": "Python 3 (ipykernel)",
   "language": "python",
   "name": "python3"
  },
  "language_info": {
   "codemirror_mode": {
    "name": "ipython",
    "version": 3
   },
   "file_extension": ".py",
   "mimetype": "text/x-python",
   "name": "python",
   "nbconvert_exporter": "python",
   "pygments_lexer": "ipython3",
   "version": "3.9.12"
  }
 },
 "nbformat": 4,
 "nbformat_minor": 5
}
