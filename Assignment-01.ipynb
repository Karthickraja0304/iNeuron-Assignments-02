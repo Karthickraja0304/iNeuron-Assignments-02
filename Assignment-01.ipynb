{
 "cells": [
  {
   "cell_type": "code",
   "execution_count": null,
   "id": "ff101ef3",
   "metadata": {},
   "outputs": [],
   "source": [
    "Q1. What is the purpose of Python's OOP?"
   ]
  },
  {
   "cell_type": "code",
   "execution_count": null,
   "id": "471c64e0",
   "metadata": {},
   "outputs": [],
   "source": [
    "Ans: \n",
    "Ans: \n",
    "    Object-oriented programming is a programming paradigm that provides a means of structuring programs so that \n",
    "    properties and behaviors are bundled into individual objects\n",
    "\n",
    "1.In Python, object-oriented Programming (OOPs) uses objects and classes in programming.\n",
    "2.It aims to implement real-world entities like inheritance, polymorphisms, encapsulation, etc. in the programming.\n",
    "3.The main concept of OOPs is to bind the data and the functions that work on that together as a single unit so \n",
    "  that no other part of the code can access this data.\n",
    "4.It comes up with the following advantages:\n",
    "5.It helps to divide our over all program into different small segments and thus making it solving easy with the use \n",
    "  of objects Helps in easy maintenance and modification of existing program\n",
    "6.Multiple instances of an object can be made"
   ]
  },
  {
   "cell_type": "code",
   "execution_count": null,
   "id": "77268a97",
   "metadata": {},
   "outputs": [],
   "source": []
  },
  {
   "cell_type": "code",
   "execution_count": null,
   "id": "92e51dbf",
   "metadata": {},
   "outputs": [],
   "source": [
    "Q2. Where does an inheritance search look for an attribute?"
   ]
  },
  {
   "cell_type": "code",
   "execution_count": null,
   "id": "21246a35",
   "metadata": {},
   "outputs": [],
   "source": [
    "Ans: Python searches for an attribute in an upward tree of attributes. it first searches for the attribute \n",
    "     in its instance and then looks in the class it is generated from, to all super classes listed in its class header"
   ]
  },
  {
   "cell_type": "code",
   "execution_count": null,
   "id": "32c5c68f",
   "metadata": {},
   "outputs": [],
   "source": []
  },
  {
   "cell_type": "code",
   "execution_count": null,
   "id": "f26e3742",
   "metadata": {},
   "outputs": [],
   "source": [
    "Q3. How do you distinguish between a class object and an instance object?"
   ]
  },
  {
   "cell_type": "code",
   "execution_count": null,
   "id": "5ea0cdcf",
   "metadata": {},
   "outputs": [],
   "source": [
    "Ans: The differences between a class object and an instance object are:\n",
    "\n",
    "1.Class is a template for creating objects whereas object is an instance of class\n",
    "2.Seperate memory is allocated for each object whenever an object is created. but for a class this doesnot happens.\n",
    "3.A Class is created once. Many objects are created using a class.\n",
    "4.As Classes have no allocated memory. they can't be manipulated. but objects can be manipulated."
   ]
  },
  {
   "cell_type": "code",
   "execution_count": null,
   "id": "a1c3af0d",
   "metadata": {},
   "outputs": [],
   "source": []
  },
  {
   "cell_type": "code",
   "execution_count": null,
   "id": "309bf370",
   "metadata": {},
   "outputs": [],
   "source": [
    "Q4. What makes the first argument in a class’s method function special?"
   ]
  },
  {
   "cell_type": "code",
   "execution_count": null,
   "id": "8f6a3e2e",
   "metadata": {},
   "outputs": [],
   "source": [
    "Ans: Python Classes usually have three types of methods which are:\n",
    "\n",
    "1.Instance Methods (object level methods)\n",
    "2.Class Methods (class level methods)\n",
    "3.Static Methods (general utility methods)\n",
    "4.self is the first argument for instance methods. which refers to the object itself\n",
    "5.cls is the first argument for class methods which refers to the class itself"
   ]
  },
  {
   "cell_type": "code",
   "execution_count": null,
   "id": "ecd649d2",
   "metadata": {},
   "outputs": [],
   "source": []
  },
  {
   "cell_type": "code",
   "execution_count": null,
   "id": "41f6f921",
   "metadata": {},
   "outputs": [],
   "source": [
    "Q5. What is the purpose of the __init__ method?"
   ]
  },
  {
   "cell_type": "code",
   "execution_count": null,
   "id": "119fa1f8",
   "metadata": {},
   "outputs": [],
   "source": [
    "Ans: __init__ is a reseved method in python classes. It serves the role of a constructor in object oriented terminology. \n",
    "    This method is called when an object is created from a class and it allows the class to initialize the attributes of \n",
    "    the class"
   ]
  },
  {
   "cell_type": "code",
   "execution_count": null,
   "id": "44850d9d",
   "metadata": {},
   "outputs": [],
   "source": []
  },
  {
   "cell_type": "code",
   "execution_count": null,
   "id": "5a34e981",
   "metadata": {},
   "outputs": [],
   "source": [
    "Q6. What is the process for creating a class instance?"
   ]
  },
  {
   "cell_type": "code",
   "execution_count": null,
   "id": "4ceefb83",
   "metadata": {},
   "outputs": [],
   "source": [
    "Ans: To create a class instance, we need to call the class by its name and pass the arguments to the class, \n",
    "     which its init method accepts."
   ]
  },
  {
   "cell_type": "code",
   "execution_count": null,
   "id": "905bda1c",
   "metadata": {},
   "outputs": [],
   "source": []
  },
  {
   "cell_type": "code",
   "execution_count": null,
   "id": "3c0c5057",
   "metadata": {},
   "outputs": [],
   "source": [
    "Q7. What is the process for creating a class?"
   ]
  },
  {
   "cell_type": "code",
   "execution_count": null,
   "id": "d1cb79db",
   "metadata": {},
   "outputs": [],
   "source": [
    "Ans: class keyword is used to create a class in python. The syntax to create a class in python is class <classname>"
   ]
  },
  {
   "cell_type": "code",
   "execution_count": null,
   "id": "0a308c7a",
   "metadata": {},
   "outputs": [],
   "source": []
  },
  {
   "cell_type": "code",
   "execution_count": null,
   "id": "10cfb39f",
   "metadata": {},
   "outputs": [],
   "source": [
    "Q8. How would you define the superclasses of a class?"
   ]
  },
  {
   "cell_type": "code",
   "execution_count": null,
   "id": "bd612ef8",
   "metadata": {},
   "outputs": [],
   "source": [
    "Ans:Superclass/Parent class is given as a arugment to the child class"
   ]
  },
  {
   "cell_type": "code",
   "execution_count": null,
   "id": "1ac554e0",
   "metadata": {},
   "outputs": [],
   "source": []
  }
 ],
 "metadata": {
  "kernelspec": {
   "display_name": "Python 3 (ipykernel)",
   "language": "python",
   "name": "python3"
  },
  "language_info": {
   "codemirror_mode": {
    "name": "ipython",
    "version": 3
   },
   "file_extension": ".py",
   "mimetype": "text/x-python",
   "name": "python",
   "nbconvert_exporter": "python",
   "pygments_lexer": "ipython3",
   "version": "3.9.12"
  }
 },
 "nbformat": 4,
 "nbformat_minor": 5
}
