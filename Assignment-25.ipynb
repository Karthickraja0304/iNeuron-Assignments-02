{
 "cells": [
  {
   "cell_type": "code",
   "execution_count": null,
   "id": "ef5f2846",
   "metadata": {},
   "outputs": [],
   "source": [
    "Q1. What is the distinction between a numpy array and a pandas data frame? Is there a way to convert between the two if there \n",
    "is?"
   ]
  },
  {
   "cell_type": "code",
   "execution_count": null,
   "id": "dc124e1d",
   "metadata": {},
   "outputs": [],
   "source": [
    "Ans:\n",
    "Numpy Ndarray provides a lot of convenient and optimized methods for performing several mathematical operations on vectors.\n",
    "\n",
    "Pandas Dataframe is an in-memory 2-dimensional tabular representation of data. In simpler words, it can be seen as a spreadsheet \n",
    "having rows and columns.\n",
    "\n",
    "Conversion : Dataframe=pandas.DataFrame(array)"
   ]
  },
  {
   "cell_type": "code",
   "execution_count": null,
   "id": "e386ed63",
   "metadata": {},
   "outputs": [],
   "source": []
  },
  {
   "cell_type": "code",
   "execution_count": null,
   "id": "1ce3074b",
   "metadata": {},
   "outputs": [],
   "source": [
    "Q2. What can go wrong when an user enters in a stock-ticker symbol, and how do you handle it?"
   ]
  },
  {
   "cell_type": "code",
   "execution_count": null,
   "id": "e21f9a9e",
   "metadata": {},
   "outputs": [],
   "source": [
    "Ans:Bar chart, Line Chart are used for plotting."
   ]
  },
  {
   "cell_type": "code",
   "execution_count": null,
   "id": "d8580bb2",
   "metadata": {},
   "outputs": [],
   "source": []
  },
  {
   "cell_type": "code",
   "execution_count": null,
   "id": "fbb767d3",
   "metadata": {},
   "outputs": [],
   "source": [
    "Q3. Identify some of the plotting techniques that are used to produce a stock-market chart.\n"
   ]
  },
  {
   "cell_type": "code",
   "execution_count": null,
   "id": "0de7ed91",
   "metadata": {},
   "outputs": [],
   "source": [
    "Ans: "
   ]
  },
  {
   "cell_type": "code",
   "execution_count": null,
   "id": "06e3eecb",
   "metadata": {},
   "outputs": [],
   "source": []
  },
  {
   "cell_type": "code",
   "execution_count": null,
   "id": "5d8618e5",
   "metadata": {},
   "outputs": [],
   "source": [
    "Q4. Why is it essential to print a legend on a stock market chart?\n"
   ]
  },
  {
   "cell_type": "code",
   "execution_count": null,
   "id": "b48700b4",
   "metadata": {},
   "outputs": [],
   "source": [
    "Ans: Legend will help comparison between different stocks, so will be essential on a stock market chart"
   ]
  },
  {
   "cell_type": "code",
   "execution_count": null,
   "id": "bbc0bb67",
   "metadata": {},
   "outputs": [],
   "source": []
  },
  {
   "cell_type": "code",
   "execution_count": null,
   "id": "95924be1",
   "metadata": {},
   "outputs": [],
   "source": [
    "Q5. What is the best way to limit the length of a pandas data frame to less than a year?\n"
   ]
  },
  {
   "cell_type": "code",
   "execution_count": null,
   "id": "a9e5de18",
   "metadata": {},
   "outputs": [],
   "source": [
    "Ans: We can use start and end parameters for that. In start we write the date from where we are starting and at the end we \n",
    "    write the end date. SO within this span we can restric the duration.Also we can use the parameters like periods for how\n",
    "    much times we need the duration and we can also use the frequency parameter."
   ]
  },
  {
   "cell_type": "code",
   "execution_count": null,
   "id": "ae940c8a",
   "metadata": {},
   "outputs": [],
   "source": []
  },
  {
   "cell_type": "code",
   "execution_count": null,
   "id": "89db4185",
   "metadata": {},
   "outputs": [],
   "source": [
    "Q6. What is the definition of a 180-day moving average?\n"
   ]
  },
  {
   "cell_type": "code",
   "execution_count": null,
   "id": "3fad510b",
   "metadata": {},
   "outputs": [],
   "source": [
    "Ans:  The 180-day moving average is represented as a line on charts and represents the average price over the past 180 days. \n",
    "    The moving average can give traders a sense regarding whether the trend is up or down, while also identifying potential \n",
    "    support or resistance areas."
   ]
  },
  {
   "cell_type": "code",
   "execution_count": null,
   "id": "39cdad94",
   "metadata": {},
   "outputs": [],
   "source": []
  },
  {
   "cell_type": "code",
   "execution_count": null,
   "id": "8173b40a",
   "metadata": {},
   "outputs": [],
   "source": [
    "Q7. Did the chapter's final example use \"indirect\" importing? If so, how exactly do you do it?"
   ]
  },
  {
   "cell_type": "code",
   "execution_count": null,
   "id": "3851d9ef",
   "metadata": {},
   "outputs": [],
   "source": [
    "Ans:"
   ]
  },
  {
   "cell_type": "code",
   "execution_count": null,
   "id": "8e472507",
   "metadata": {},
   "outputs": [],
   "source": []
  }
 ],
 "metadata": {
  "kernelspec": {
   "display_name": "Python 3 (ipykernel)",
   "language": "python",
   "name": "python3"
  },
  "language_info": {
   "codemirror_mode": {
    "name": "ipython",
    "version": 3
   },
   "file_extension": ".py",
   "mimetype": "text/x-python",
   "name": "python",
   "nbconvert_exporter": "python",
   "pygments_lexer": "ipython3",
   "version": "3.9.12"
  }
 },
 "nbformat": 4,
 "nbformat_minor": 5
}
