{
 "cells": [
  {
   "cell_type": "code",
   "execution_count": null,
   "id": "9af1f582",
   "metadata": {},
   "outputs": [],
   "source": [
    "Q1. What are the two latest user-defined exception constraints in Python 3.X?\n"
   ]
  },
  {
   "cell_type": "code",
   "execution_count": null,
   "id": "0c273d8e",
   "metadata": {},
   "outputs": [],
   "source": [
    "Ans:raise and assert are the two latest user-defined exception constraints in Python 3.X"
   ]
  },
  {
   "cell_type": "code",
   "execution_count": null,
   "id": "920de366",
   "metadata": {},
   "outputs": [],
   "source": []
  },
  {
   "cell_type": "code",
   "execution_count": null,
   "id": "09bd95fd",
   "metadata": {},
   "outputs": [],
   "source": [
    "Q2. How are class-based exceptions that have been raised matched to handlers?\n"
   ]
  },
  {
   "cell_type": "code",
   "execution_count": null,
   "id": "e68c9a2d",
   "metadata": {},
   "outputs": [],
   "source": [
    "Ans : In python, Users can define custom exceptions by creating a new class. This exception class has to be derived, \n",
    "    either directly or indirectly from built-in Exception class. This new exception class like other exceptions can \n",
    "    be raised using the raise statement with an optional error message."
   ]
  },
  {
   "cell_type": "code",
   "execution_count": null,
   "id": "0202f2c3",
   "metadata": {},
   "outputs": [],
   "source": []
  },
  {
   "cell_type": "code",
   "execution_count": null,
   "id": "2b6fdd89",
   "metadata": {},
   "outputs": [],
   "source": [
    "Q3. Describe two methods for attaching context information to exception artefacts.\n"
   ]
  },
  {
   "cell_type": "code",
   "execution_count": null,
   "id": "f6090ccb",
   "metadata": {},
   "outputs": [],
   "source": [
    "Ans:The process() method of LoggerAdapter is where the contextual information is added to the logging output. \n",
    "    its passes the message and keyword arguments of the logging call, and it passes back modified versions of \n",
    "    these to use in the call to the underlying logger.\n",
    "\n",
    "Other method that can be used is exception(), Logs a messgae with level ERROR on this logger. The arguments are \n",
    "interpreted as for debug(). Exception info is added to the logging message"
   ]
  },
  {
   "cell_type": "code",
   "execution_count": null,
   "id": "93e26d56",
   "metadata": {},
   "outputs": [],
   "source": []
  },
  {
   "cell_type": "code",
   "execution_count": null,
   "id": "7e703a18",
   "metadata": {},
   "outputs": [],
   "source": [
    "Q4. Describe two methods for specifying the text of an exception object's error message.\n"
   ]
  },
  {
   "cell_type": "code",
   "execution_count": null,
   "id": "7a5f4ce8",
   "metadata": {},
   "outputs": [],
   "source": [
    "Ans: raise and assert are two methods for specifying the text of an exception object's error message.raise statement is \n",
    "    used to trigger explicit exception, if certain condition is not as per requirement of programmer. it helps in triggering \n",
    "    exception as per need of programmer and logic.\n",
    "\n",
    "There are few assertions that programmer always want to be True to avoid code failure. This type of requirment is fullfilled \n",
    "by assert statement. This statement takes a Boolean Condition output of which if True, further program executes. if output of\n",
    "assert statement is False it raises an Assertion Error."
   ]
  },
  {
   "cell_type": "code",
   "execution_count": null,
   "id": "1dd92625",
   "metadata": {},
   "outputs": [],
   "source": []
  },
  {
   "cell_type": "code",
   "execution_count": null,
   "id": "bbabb214",
   "metadata": {},
   "outputs": [],
   "source": [
    "Q5. Why do you no longer use string-based exceptions?"
   ]
  },
  {
   "cell_type": "code",
   "execution_count": null,
   "id": "bca39705",
   "metadata": {},
   "outputs": [],
   "source": [
    "Ans: String-based Exceptions doesn't inherit from Exceptions. so plain exceptions catch all exceptions and not only system."
   ]
  },
  {
   "cell_type": "code",
   "execution_count": null,
   "id": "04e78184",
   "metadata": {},
   "outputs": [],
   "source": []
  }
 ],
 "metadata": {
  "kernelspec": {
   "display_name": "Python 3 (ipykernel)",
   "language": "python",
   "name": "python3"
  },
  "language_info": {
   "codemirror_mode": {
    "name": "ipython",
    "version": 3
   },
   "file_extension": ".py",
   "mimetype": "text/x-python",
   "name": "python",
   "nbconvert_exporter": "python",
   "pygments_lexer": "ipython3",
   "version": "3.9.12"
  }
 },
 "nbformat": 4,
 "nbformat_minor": 5
}
