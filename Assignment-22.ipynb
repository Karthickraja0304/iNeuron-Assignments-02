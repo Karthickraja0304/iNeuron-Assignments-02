{
 "cells": [
  {
   "cell_type": "code",
   "execution_count": null,
   "id": "5a0f11ce",
   "metadata": {},
   "outputs": [],
   "source": [
    "Q1. What are the benefits of the built-in array package, if any?"
   ]
  },
  {
   "cell_type": "code",
   "execution_count": null,
   "id": "2381e43e",
   "metadata": {},
   "outputs": [],
   "source": [
    "Ans:\n",
    "Arrays represent multiple data items of the same type using a single name. In arrays, the elements can be accessed randomly \n",
    "by using the index number. Arrays allocate memory in contiguous memory locations for all its elements. Hence there is no \n",
    "chance of extra memory being allocated in case of arrays. This avoids memory overflow or shortage of memory in arrays."
   ]
  },
  {
   "cell_type": "code",
   "execution_count": null,
   "id": "e5679660",
   "metadata": {},
   "outputs": [],
   "source": []
  },
  {
   "cell_type": "code",
   "execution_count": null,
   "id": "ac62c782",
   "metadata": {},
   "outputs": [],
   "source": [
    "Q2. What are some of the array package's limitations?\n"
   ]
  },
  {
   "cell_type": "code",
   "execution_count": null,
   "id": "03d5b7a0",
   "metadata": {},
   "outputs": [],
   "source": [
    "Ans:\n",
    "The number of elements to be stored in an array should be known in advance. An array is a static structure \n",
    "(which means the array is of fixed size). Once declared the size of the array cannot be modified. The memory which is \n",
    "allocated to it cannot be increased or decreased.\n",
    "\n",
    "Insertion and deletion are quite difficult in an array as the elements are stored in consecutive memory locations and the \n",
    "shifting operation is costly.\n",
    "\n",
    "Allocating more memory than the requirement leads to wastage of memory space and less allocation of memory also leads to a \n",
    "problem"
   ]
  },
  {
   "cell_type": "code",
   "execution_count": null,
   "id": "7c52bd01",
   "metadata": {},
   "outputs": [],
   "source": []
  },
  {
   "cell_type": "code",
   "execution_count": null,
   "id": "c7dc9bf7",
   "metadata": {},
   "outputs": [],
   "source": [
    "Q3. Describe the main differences between the array and numpy packages.\n"
   ]
  },
  {
   "cell_type": "code",
   "execution_count": null,
   "id": "e3e2b35a",
   "metadata": {},
   "outputs": [],
   "source": [
    "Ans:\n",
    "The array package doesn't provide any help with numerical calculation with the items insdie it in number form while NumPy \n",
    "give you a wide variety of numerical operations.\n",
    "\n",
    "An array is a single dimensional entity which hold the numerical data, while numpy can have more than 1 dimension.\n",
    "\n",
    "In case of array, item can be accessed by its index position and it is easy task while in numpy item is accessed by \n",
    "its column and row index, which makes it slightly time taking. Same goes with appending operation.\n",
    "\n",
    "In case of array we do not form a tabular structure, while in numpy it forms a tabular structure"
   ]
  },
  {
   "cell_type": "code",
   "execution_count": null,
   "id": "b2b7f4e4",
   "metadata": {},
   "outputs": [],
   "source": []
  },
  {
   "cell_type": "code",
   "execution_count": null,
   "id": "363af115",
   "metadata": {},
   "outputs": [],
   "source": [
    "Q4. Explain the distinctions between the empty, ones, and zeros functions.\n"
   ]
  },
  {
   "cell_type": "code",
   "execution_count": null,
   "id": "43e06536",
   "metadata": {},
   "outputs": [],
   "source": [
    "Ans:\n",
    "The distinctions between the empty, ones, and zero functions are as follows :\n",
    "\n",
    "Empty function: An empty function is a function that does not contain any statement within its body. If you try to write\n",
    "a function definition without any statement in python ,it will return an error. To avoid this, we use pass statement. \n",
    "pass is a special statement in Python that does nothing. It only works as a dummy statement.\n",
    "Ones: This function returns a new array of given shape and data type, where the element’s value is 1.\n",
    "Zeros: This function returns a new array of given shape and data type, where the element’s value is 0."
   ]
  },
  {
   "cell_type": "code",
   "execution_count": null,
   "id": "cff66859",
   "metadata": {},
   "outputs": [],
   "source": []
  },
  {
   "cell_type": "code",
   "execution_count": null,
   "id": "e333b213",
   "metadata": {},
   "outputs": [],
   "source": [
    "Q5. In the fromfunction function, which is used to construct new arrays, what is the role of the callable argument?\n"
   ]
  },
  {
   "cell_type": "code",
   "execution_count": null,
   "id": "70a63d82",
   "metadata": {},
   "outputs": [],
   "source": [
    "Ans:\n",
    " Its function is to execute the function over each coordinate and the resulting array. The function is called with N \n",
    "parameters, where N is the rank of shape. Each parameter represents the coordinates of the array varying along a specific \n",
    "axis."
   ]
  },
  {
   "cell_type": "code",
   "execution_count": null,
   "id": "9a699830",
   "metadata": {},
   "outputs": [],
   "source": []
  },
  {
   "cell_type": "code",
   "execution_count": null,
   "id": "27b9a2f0",
   "metadata": {},
   "outputs": [],
   "source": [
    "Q6. What happens when a numpy array is combined with a single-value operand (a scalar, such as an int or a floating-point value)\n",
    "    through addition, as in the expression A + n?\n"
   ]
  },
  {
   "cell_type": "code",
   "execution_count": null,
   "id": "a92e26e6",
   "metadata": {},
   "outputs": [],
   "source": [
    "Ans:   If any scaler value such as integer is added to the numpy array then all the elements inside the array will add \n",
    "    that value in it."
   ]
  },
  {
   "cell_type": "code",
   "execution_count": null,
   "id": "0d112b0e",
   "metadata": {},
   "outputs": [],
   "source": []
  },
  {
   "cell_type": "code",
   "execution_count": null,
   "id": "e2ac3dfc",
   "metadata": {},
   "outputs": [],
   "source": [
    "Q7. Can array-to-scalar operations use combined operation-assign operators (such as += or *=)? What is the outcome?\n"
   ]
  },
  {
   "cell_type": "code",
   "execution_count": null,
   "id": "f2b53e26",
   "metadata": {},
   "outputs": [],
   "source": [
    "Ans: It will carry out provided operation on all elements of array."
   ]
  },
  {
   "cell_type": "code",
   "execution_count": null,
   "id": "303176c5",
   "metadata": {},
   "outputs": [],
   "source": []
  },
  {
   "cell_type": "code",
   "execution_count": null,
   "id": "24b38026",
   "metadata": {},
   "outputs": [],
   "source": [
    "Q8. Does a numpy array contain fixed-length strings? What happens if you allocate a longer string to one of these arrays?\n"
   ]
  },
  {
   "cell_type": "code",
   "execution_count": null,
   "id": "6d964893",
   "metadata": {},
   "outputs": [],
   "source": [
    "Ans: Yes, it is possible that we can include a string of fixed length in numpy array. The dtype of any numpy array \n",
    "    containing string values is the maximum length of any string present in the array.Once set, it will only be able to\n",
    "    store new string having length not more than the maximum length at the time of the creation. If we try to reassign\n",
    "    some another string value having length greater than the maximum length of the existing elements, it simply discards \n",
    "    all the values beyond the maximum length accept upto those values which are under the limit."
   ]
  },
  {
   "cell_type": "code",
   "execution_count": null,
   "id": "c76983bd",
   "metadata": {},
   "outputs": [],
   "source": []
  },
  {
   "cell_type": "code",
   "execution_count": null,
   "id": "b1a0be05",
   "metadata": {},
   "outputs": [],
   "source": [
    "Q9. What happens when you combine two numpy arrays using an operation like addition (+) or multiplication (*)? \n",
    "    What are the conditions for combining two numpy arrays?\n"
   ]
  },
  {
   "cell_type": "code",
   "execution_count": null,
   "id": "88d5269a",
   "metadata": {},
   "outputs": [],
   "source": [
    "Ans:It will simply add or multiply element to element at same position."
   ]
  },
  {
   "cell_type": "code",
   "execution_count": null,
   "id": "94aa8976",
   "metadata": {},
   "outputs": [],
   "source": []
  },
  {
   "cell_type": "code",
   "execution_count": null,
   "id": "e4839003",
   "metadata": {},
   "outputs": [],
   "source": [
    "Q10. What is the best way to use a Boolean array to mask another array?\n"
   ]
  },
  {
   "cell_type": "code",
   "execution_count": null,
   "id": "4c232302",
   "metadata": {},
   "outputs": [],
   "source": [
    "Ans:The best way to use a Boolean array to mask another array is by Using masked_where of numpy package"
   ]
  },
  {
   "cell_type": "code",
   "execution_count": null,
   "id": "9d877518",
   "metadata": {},
   "outputs": [],
   "source": []
  },
  {
   "cell_type": "code",
   "execution_count": null,
   "id": "3d885077",
   "metadata": {},
   "outputs": [],
   "source": [
    "Q11. What are three different ways to get the standard deviation of a wide collection of data using both standard \n",
    "     Python and its packages? Sort the three of them by how quickly they execute.\n"
   ]
  },
  {
   "cell_type": "code",
   "execution_count": null,
   "id": "f704a8ae",
   "metadata": {},
   "outputs": [],
   "source": [
    "Ans:np.std and math package can be used individually."
   ]
  },
  {
   "cell_type": "code",
   "execution_count": null,
   "id": "5fd1913c",
   "metadata": {},
   "outputs": [],
   "source": []
  },
  {
   "cell_type": "code",
   "execution_count": null,
   "id": "096cccf6",
   "metadata": {},
   "outputs": [],
   "source": [
    "12. What is the dimensionality of a Boolean mask-generated array?"
   ]
  },
  {
   "cell_type": "code",
   "execution_count": null,
   "id": "9d62ff3f",
   "metadata": {},
   "outputs": [],
   "source": [
    "Ans: It will have same dimensionality as input array."
   ]
  },
  {
   "cell_type": "code",
   "execution_count": null,
   "id": "711254f4",
   "metadata": {},
   "outputs": [],
   "source": []
  }
 ],
 "metadata": {
  "kernelspec": {
   "display_name": "Python 3 (ipykernel)",
   "language": "python",
   "name": "python3"
  },
  "language_info": {
   "codemirror_mode": {
    "name": "ipython",
    "version": 3
   },
   "file_extension": ".py",
   "mimetype": "text/x-python",
   "name": "python",
   "nbconvert_exporter": "python",
   "pygments_lexer": "ipython3",
   "version": "3.9.12"
  }
 },
 "nbformat": 4,
 "nbformat_minor": 5
}
