{
 "cells": [
  {
   "cell_type": "code",
   "execution_count": null,
   "id": "aafe6928",
   "metadata": {},
   "outputs": [],
   "source": [
    "Q1. Is it permissible to use several import statements to import the same module? What would the goal be? Can you think \n",
    "    of a situation where it would be beneficial?"
   ]
  },
  {
   "cell_type": "code",
   "execution_count": null,
   "id": "5b606a1c",
   "metadata": {},
   "outputs": [],
   "source": [
    "Ans: Yes, it is permissible to use several import statements to import the same module. It is used in case when we have to \n",
    "     import multiple functions from same module."
   ]
  },
  {
   "cell_type": "code",
   "execution_count": null,
   "id": "b843c288",
   "metadata": {},
   "outputs": [],
   "source": []
  },
  {
   "cell_type": "code",
   "execution_count": null,
   "id": "4e2a0b05",
   "metadata": {},
   "outputs": [],
   "source": [
    "Q2. What are some of a module's characteristics? (Name at least one.)\n"
   ]
  },
  {
   "cell_type": "code",
   "execution_count": null,
   "id": "6bb13d86",
   "metadata": {},
   "outputs": [],
   "source": [
    "Ans: \n",
    "The following are some of a module's characteristics:\n",
    "\n",
    "__name__ : It returns the name of the module\n",
    "__doc__ : It denotes the documentation string line written in a module code.\n",
    "__file__ : It holds the name and path of the module file from which it is loaded\n",
    "__dict__ : It return a dictionary object of module attributes, functions and other definitions and their respective values"
   ]
  },
  {
   "cell_type": "code",
   "execution_count": null,
   "id": "0e40c9cf",
   "metadata": {},
   "outputs": [],
   "source": []
  },
  {
   "cell_type": "code",
   "execution_count": null,
   "id": "579ea3a8",
   "metadata": {},
   "outputs": [],
   "source": [
    "Q3. Circular importing, such as when two modules import each other, can lead to dependencies and bugs that aren't \n",
    "    visible. How can you go about creating a program that avoids mutual importing?\n"
   ]
  },
  {
   "cell_type": "code",
   "execution_count": null,
   "id": "a7708a0f",
   "metadata": {},
   "outputs": [],
   "source": [
    "Ans:\n",
    "Circular importing means importing the two modules in each other. If suppose we are wokring in MOD1.py file and it is \n",
    "importing some function say F2() from some other module say MOD2.PY file or we can do vice-versa. What will happen is: \n",
    "    This will give an import error.\n",
    "\n",
    "This is because when we import F2() function from module MOD2.py, then this will execute MOD2.py file. And in MOD2.py\n",
    "file there is an another statement of importing MOD1.py module.\n",
    "\n",
    "This will result in endless loop. To avoid this error just do one thingWe can use if __name__ == '__main__'\n",
    "\n",
    "In the function, you can't directly refer to the function in the program. The addition of this sentence avoids the endless\n",
    "loop of the program ."
   ]
  },
  {
   "cell_type": "code",
   "execution_count": null,
   "id": "def93494",
   "metadata": {},
   "outputs": [],
   "source": []
  },
  {
   "cell_type": "code",
   "execution_count": null,
   "id": "5ec6e854",
   "metadata": {},
   "outputs": [],
   "source": [
    "Q4. Why is  _ _all_ _ in Python?"
   ]
  },
  {
   "cell_type": "code",
   "execution_count": null,
   "id": "509b793f",
   "metadata": {},
   "outputs": [],
   "source": [
    "Ans:  It provides list of all modules present in a library."
   ]
  },
  {
   "cell_type": "code",
   "execution_count": null,
   "id": "77c859b3",
   "metadata": {},
   "outputs": [],
   "source": []
  },
  {
   "cell_type": "code",
   "execution_count": null,
   "id": "1b321f4d",
   "metadata": {},
   "outputs": [],
   "source": [
    "Q5. In what situation is it useful to refer to the _ _name_ _ attribute or the string '_ _main_ _'?"
   ]
  },
  {
   "cell_type": "code",
   "execution_count": null,
   "id": "6dd24443",
   "metadata": {},
   "outputs": [],
   "source": [
    "Ans: \n",
    "During the time of execution of the code if we want to refer the module in which we are working on then we uses name \n",
    "attribute. In that case it will return the module in which we are working on. Suppose if that moudle is being imported \n",
    "from some other module then name will have the name of that moudle from where the current module has been imported. The \n",
    "current module in which we are working is refer to the string __main __."
   ]
  },
  {
   "cell_type": "code",
   "execution_count": null,
   "id": "d3840445",
   "metadata": {},
   "outputs": [],
   "source": []
  },
  {
   "cell_type": "code",
   "execution_count": null,
   "id": "c436f0a9",
   "metadata": {},
   "outputs": [],
   "source": [
    "Q6. What are some of the benefits of attaching a program counter to the RPN interpreter application, which interprets an \n",
    "    RPN script line by line?"
   ]
  },
  {
   "cell_type": "code",
   "execution_count": null,
   "id": "498a7e0a",
   "metadata": {},
   "outputs": [],
   "source": [
    "Ans:"
   ]
  },
  {
   "cell_type": "code",
   "execution_count": null,
   "id": "7d8c313d",
   "metadata": {},
   "outputs": [],
   "source": []
  },
  {
   "cell_type": "code",
   "execution_count": null,
   "id": "05d70f85",
   "metadata": {},
   "outputs": [],
   "source": [
    "Q7. What are the minimum expressions or statements (or both) that you'd need to render a basic programming language \n",
    "    like RPN primitive but complete— that is, capable of carrying out any computerised task theoretically possible?"
   ]
  },
  {
   "cell_type": "code",
   "execution_count": null,
   "id": "7d5f4509",
   "metadata": {},
   "outputs": [],
   "source": [
    "Ans:"
   ]
  },
  {
   "cell_type": "code",
   "execution_count": null,
   "id": "67e74730",
   "metadata": {},
   "outputs": [],
   "source": []
  }
 ],
 "metadata": {
  "kernelspec": {
   "display_name": "Python 3 (ipykernel)",
   "language": "python",
   "name": "python3"
  },
  "language_info": {
   "codemirror_mode": {
    "name": "ipython",
    "version": 3
   },
   "file_extension": ".py",
   "mimetype": "text/x-python",
   "name": "python",
   "nbconvert_exporter": "python",
   "pygments_lexer": "ipython3",
   "version": "3.9.12"
  }
 },
 "nbformat": 4,
 "nbformat_minor": 5
}
