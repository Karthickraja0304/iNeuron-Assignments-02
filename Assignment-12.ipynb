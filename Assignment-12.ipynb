{
 "cells": [
  {
   "cell_type": "code",
   "execution_count": null,
   "id": "0d6cb53b",
   "metadata": {},
   "outputs": [],
   "source": [
    "Q1. Does assigning a value to a string's indexed character violate Python's string immutability?\n"
   ]
  },
  {
   "cell_type": "code",
   "execution_count": null,
   "id": "11012fd9",
   "metadata": {},
   "outputs": [],
   "source": [
    "Ans:\n",
    "String’s indexed character cannot to be assigned a New value , as Strings are immutable.\n",
    "Example:\n",
    "name = \"Reinforcement\"\n",
    "print(id(name)) #73472\n",
    "name[0] = \"V\" # Raises TypeError"
   ]
  },
  {
   "cell_type": "code",
   "execution_count": null,
   "id": "c58050e1",
   "metadata": {},
   "outputs": [],
   "source": []
  },
  {
   "cell_type": "code",
   "execution_count": null,
   "id": "a856b51c",
   "metadata": {},
   "outputs": [],
   "source": [
    "Q2. Does using the += operator to concatenate strings violate Python's string immutability? Why or why not?\n"
   ]
  },
  {
   "cell_type": "code",
   "execution_count": null,
   "id": "354302cd",
   "metadata": {},
   "outputs": [],
   "source": [
    "Ans:\n",
    "+= operator is used to concatenate strings, it does not violate Python’s string immutability Property.\n",
    "Because doing so new creates a new association with data and variable. E.g. str_1=\"a\" and str_1+=\"b. effect of this \n",
    "statements to create string ab and reassign it to variable str_1, any string data is not actually modified."
   ]
  },
  {
   "cell_type": "code",
   "execution_count": null,
   "id": "dab0cfdc",
   "metadata": {},
   "outputs": [],
   "source": []
  },
  {
   "cell_type": "code",
   "execution_count": null,
   "id": "71c0a7a4",
   "metadata": {},
   "outputs": [],
   "source": [
    "Q3. In Python, how many different ways are there to index a character?\n"
   ]
  },
  {
   "cell_type": "code",
   "execution_count": null,
   "id": "4c29c0eb",
   "metadata": {},
   "outputs": [],
   "source": [
    "Ans: A Character in string can be indexed using string name followed by index number of character in square bracket. \n",
    "    Positive Indexing i.e. first index is 0 an so on, or Negative Indexing i.e. last letter is -1 and so on can be \n",
    "    used to index a character"
   ]
  },
  {
   "cell_type": "code",
   "execution_count": null,
   "id": "ac728d9a",
   "metadata": {},
   "outputs": [],
   "source": []
  },
  {
   "cell_type": "code",
   "execution_count": null,
   "id": "bbf8516d",
   "metadata": {},
   "outputs": [],
   "source": [
    "Q4. What is the relationship between indexing and slicing?\n"
   ]
  },
  {
   "cell_type": "code",
   "execution_count": null,
   "id": "56a427c4",
   "metadata": {},
   "outputs": [],
   "source": [
    "Ans: We can access elements of sequence datatypes by using slicing and indexing. Indexing is used to obtaining \n",
    "    individual element while slicing for sequence of elements."
   ]
  },
  {
   "cell_type": "code",
   "execution_count": null,
   "id": "57e32c95",
   "metadata": {},
   "outputs": [],
   "source": []
  },
  {
   "cell_type": "code",
   "execution_count": null,
   "id": "67cad864",
   "metadata": {},
   "outputs": [],
   "source": [
    "Q5. What is an indexed character's exact data type? What is the data form of a slicing-generated substring?\n"
   ]
  },
  {
   "cell_type": "code",
   "execution_count": null,
   "id": "4dbab425",
   "metadata": {},
   "outputs": [],
   "source": [
    "Ans: Indexed characters and sliced substrings have datatype String."
   ]
  },
  {
   "cell_type": "code",
   "execution_count": null,
   "id": "48771613",
   "metadata": {},
   "outputs": [],
   "source": []
  },
  {
   "cell_type": "code",
   "execution_count": null,
   "id": "4046476f",
   "metadata": {},
   "outputs": [],
   "source": [
    "Q6. What is the relationship between string and character \"types\" in Python?\n"
   ]
  },
  {
   "cell_type": "code",
   "execution_count": null,
   "id": "1645b530",
   "metadata": {},
   "outputs": [],
   "source": [
    "Ans:Object that contains sequence of character datatypes are called String."
   ]
  },
  {
   "cell_type": "code",
   "execution_count": null,
   "id": "be283fc0",
   "metadata": {},
   "outputs": [],
   "source": []
  },
  {
   "cell_type": "code",
   "execution_count": null,
   "id": "51f0af8e",
   "metadata": {},
   "outputs": [],
   "source": [
    "Q7. Identify at least two operators and one method that allow you to combine one or more smaller strings to \n",
    "    create a larger string.\n"
   ]
  },
  {
   "cell_type": "code",
   "execution_count": null,
   "id": "a2b54532",
   "metadata": {},
   "outputs": [],
   "source": [
    "Ans: +, += and * allow to combine one or more smaller strings to create a larger string. <string>.join(<sep>) method \n",
    "    joins element of iterable type like list and tuple to get a combined string."
   ]
  },
  {
   "cell_type": "code",
   "execution_count": null,
   "id": "18523250",
   "metadata": {},
   "outputs": [],
   "source": []
  },
  {
   "cell_type": "code",
   "execution_count": null,
   "id": "d2bc8fb0",
   "metadata": {},
   "outputs": [],
   "source": [
    "Q8. What is the benefit of first checking the target string with in or not in before using the index method to find a substring?\n"
   ]
  },
  {
   "cell_type": "code",
   "execution_count": null,
   "id": "c785c769",
   "metadata": {},
   "outputs": [],
   "source": [
    "Ans: Checking the target string with in or not Operators before using the index method to find a substring just helps \n",
    "    confirming availability of substring and thus avoid raising of ValueError."
   ]
  },
  {
   "cell_type": "code",
   "execution_count": null,
   "id": "e9ff2772",
   "metadata": {},
   "outputs": [],
   "source": []
  },
  {
   "cell_type": "code",
   "execution_count": null,
   "id": "4e241f83",
   "metadata": {},
   "outputs": [],
   "source": [
    "Q9. Which operators and built-in string methods produce simple Boolean (true/false) results?"
   ]
  },
  {
   "cell_type": "code",
   "execution_count": null,
   "id": "07377ca0",
   "metadata": {},
   "outputs": [],
   "source": [
    "Ans:\n",
    "The String Operators and built-in methods to Produce Simple Boolean (True/False) Results are:\n",
    "\n",
    "1.in\n",
    "2.not\n",
    "3.<string>.isalpha()\n",
    "4.<string>.isalnum()\n",
    "5.<string>.isdecimal()\n",
    "6.<string>.isdigit()\n",
    "7.<string>.islower()\n",
    "8.<string>.isnumeric()\n",
    "9.<string>.isprintable()\n",
    "10.<string>.isspace()\n",
    "11.<string>.istitle()"
   ]
  },
  {
   "cell_type": "code",
   "execution_count": null,
   "id": "03fd251e",
   "metadata": {},
   "outputs": [],
   "source": []
  }
 ],
 "metadata": {
  "kernelspec": {
   "display_name": "Python 3 (ipykernel)",
   "language": "python",
   "name": "python3"
  },
  "language_info": {
   "codemirror_mode": {
    "name": "ipython",
    "version": 3
   },
   "file_extension": ".py",
   "mimetype": "text/x-python",
   "name": "python",
   "nbconvert_exporter": "python",
   "pygments_lexer": "ipython3",
   "version": "3.9.12"
  }
 },
 "nbformat": 4,
 "nbformat_minor": 5
}
